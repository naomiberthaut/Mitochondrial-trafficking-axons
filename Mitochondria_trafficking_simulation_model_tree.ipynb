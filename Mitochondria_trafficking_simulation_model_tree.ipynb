{
 "cells": [
  {
   "cell_type": "markdown",
   "metadata": {},
   "source": [
    "# Mitochondrial trafficking simulation script + plotting\n"
   ]
  },
  {
   "cell_type": "code",
   "execution_count": 1,
   "metadata": {},
   "outputs": [],
   "source": [
    "from __future__ import division\n",
    "import pylab as plt\n",
    "from numpy import random,argwhere,argmax,linspace,logspace,var,mean,tile,dot\n",
    "import copy\n",
    "from numpy.random import randint\n",
    "from scipy.stats import norm,nbinom\n",
    "from scipy import sparse\n",
    "import numpy as np\n",
    "%matplotlib inline\n",
    "from matplotlib import pyplot\n",
    "import warnings\n",
    "warnings.filterwarnings('ignore')\n",
    "import scipy.io as sio\n",
    "from collections import Counter\n",
    "import matplotlib as mpl\n",
    "from mpl_toolkits.mplot3d import Axes3D\n",
    "import time\n",
    "import os.path\n",
    "import pickle"
   ]
  },
  {
   "cell_type": "code",
   "execution_count": 2,
   "metadata": {},
   "outputs": [],
   "source": [
    "from morphopy.computation import file_manager as fm\n",
    "from morphopy.neurontree import NeuronTree as nt\n",
    "import pandas as pd\n",
    "import networkx as nx"
   ]
  },
  {
   "cell_type": "code",
   "execution_count": 3,
   "metadata": {},
   "outputs": [],
   "source": [
    "import warnings\n",
    "warnings.filterwarnings(\"ignore\", category=DeprecationWarning)"
   ]
  },
  {
   "cell_type": "code",
   "execution_count": 4,
   "metadata": {},
   "outputs": [],
   "source": [
    "# My modules\n",
    "import modmorf\n",
    "import modsim\n",
    "import modout\n",
    "import modplot"
   ]
  },
  {
   "cell_type": "code",
   "execution_count": 5,
   "metadata": {},
   "outputs": [],
   "source": [
    "script_dir = os. getcwd() # get current scipt directory"
   ]
  },
  {
   "cell_type": "code",
   "execution_count": 6,
   "metadata": {},
   "outputs": [],
   "source": [
    "def simplifyGraph(G):\n",
    "    ''' Loop over the graph until all nodes of degree 2 have been removed and their incident edges fused '''\n",
    "\n",
    "    g = G.copy()\n",
    "\n",
    "    while any(degree==2 for _, degree in g.degree):\n",
    "\n",
    "        g0 = g.copy() #<- simply changing g itself would cause error `dictionary changed size during iteration` \n",
    "        for node, degree in g.degree():\n",
    "            if degree==2:\n",
    "\n",
    "                if g.is_directed(): #<-for directed graphs\n",
    "                    a0,b0 = list(g0.in_edges(node))[0]\n",
    "                    a1,b1 = list(g0.out_edges(node))[0]\n",
    "\n",
    "                else:\n",
    "                    edges = g0.edges(node)\n",
    "                    edges = list(edges.__iter__())\n",
    "                    a0,b0 = edges[0]\n",
    "                    a1,b1 = edges[1]\n",
    "\n",
    "                e0 = a0 if a0!=node else b0\n",
    "                e1 = a1 if a1!=node else b1\n",
    "\n",
    "                g0.remove_node(node)\n",
    "                g0.add_edge(e0, e1)\n",
    "        g = g0\n",
    "\n",
    "    return g"
   ]
  },
  {
   "cell_type": "markdown",
   "metadata": {},
   "source": [
    "## Load Tree and get Tree attributes"
   ]
  },
  {
   "cell_type": "code",
   "execution_count": 7,
   "metadata": {},
   "outputs": [],
   "source": [
    "morphofile = \"tree_10_mm_path.swc\" # symmetrical tree with 10 mm distance between soma and endpoints\n",
    "# tree is already  resampled at 0.2 um internode distanece\n",
    "\n",
    "Nt = fm.load_swc_file(script_dir+'//morphologies//'+morphofile)"
   ]
  },
  {
   "cell_type": "code",
   "execution_count": 8,
   "metadata": {},
   "outputs": [],
   "source": [
    "internode = 0.2 # (distance in um)\n",
    "#Axon = Nt.get_axonal_tree().resample_tree(dist=internode) # get axonal tree and resample internode distance\n",
    "Axon = Nt.get_axonal_tree() #  get axonal tree only (still includes the single soma node)\n",
    "DirA = Axon.get_adjacency_matrix(weight=None) # adjacency matrix of axonal tree (directed matrix - only children connections)\n",
    "A = DirA + np.transpose(DirA)                 # adjacency matrix with children and parent connections"
   ]
  },
  {
   "cell_type": "code",
   "execution_count": 9,
   "metadata": {},
   "outputs": [
    {
     "data": {
      "text/plain": [
       "\"\\nfile_axon = open('morphologies/AA0618_Resampled_Axon_0.2.obj', 'rb')\\nmorphofile = 'AA0618_Resampled_Axon_0.2.obj'\\nAxon = pickle.load(file_axon)\\nDirA = Axon.get_adjacency_matrix(weight=None) # adjacency matrix of resampled axonal tree (directed matrix - only children connections)\\nA = DirA + np.transpose(DirA)   \\ninternode = 0.2\\n\""
      ]
     },
     "execution_count": 9,
     "metadata": {},
     "output_type": "execute_result"
    }
   ],
   "source": [
    "## loading pre-existing axon object (already resampled)\n",
    "'''\n",
    "file_axon = open('morphologies/AA0618_Resampled_Axon_0.2.obj', 'rb')\n",
    "morphofile = 'AA0618_Resampled_Axon_0.2.obj'\n",
    "Axon = pickle.load(file_axon)\n",
    "DirA = Axon.get_adjacency_matrix(weight=None) # adjacency matrix of resampled axonal tree (directed matrix - only children connections)\n",
    "A = DirA + np.transpose(DirA)   \n",
    "internode = 0.2\n",
    "'''"
   ]
  },
  {
   "cell_type": "code",
   "execution_count": 10,
   "metadata": {},
   "outputs": [
    {
     "name": "stdout",
     "output_type": "stream",
     "text": [
      "116656\n"
     ]
    }
   ],
   "source": [
    "N = modmorf.get_number_of_nodes(A) # number of nodes/positions\n",
    "print(N)"
   ]
  },
  {
   "cell_type": "code",
   "execution_count": 11,
   "metadata": {},
   "outputs": [],
   "source": [
    "#Parent and Children only matrices\n",
    "Parent, Children = modmorf.relations_nodes(A)  # Parent, Children (edges = 1)"
   ]
  },
  {
   "cell_type": "code",
   "execution_count": 12,
   "metadata": {},
   "outputs": [],
   "source": [
    "##Rename nodes to match adjacency matrix indexes (start node is 0 instead of 1) - the new naming of nodes will be used in all following dicitonaries called\n",
    "\n",
    "# first, create a dictionary of indices 'mydict' {old ind: new ind} to pass as 'label' argument in rename function\n",
    "mydict = Axon.get_node_attributes('type') # using any of the functions to bring up a dictionary with current indexing system\n",
    "for i, key in enumerate(mydict):  # iterates on the keys (ie current indices)  \n",
    "    mydict[key] = i               # give value 0 to n\n",
    "\n",
    "Axon.rename_nodes(label=mydict) # rename nodes to match adj matrix indexes"
   ]
  },
  {
   "cell_type": "code",
   "execution_count": 13,
   "metadata": {},
   "outputs": [],
   "source": [
    "BP = Axon.get_branchpoints() # branchpoints array\n",
    "EP = Axon.get_tips() # endpoints array\n",
    "\n",
    "# children of branchpoints array\n",
    "CBP = []   \n",
    "for i in range(len(BP)):\n",
    "    CBP.append((Children[BP[i],:]).indices)\n",
    "CBP = np.array(CBP)   \n",
    "\n",
    "NodeType = Axon.get_node_attributes('type') # type of node dictionary - 1 is soma, 2 is axon "
   ]
  },
  {
   "cell_type": "code",
   "execution_count": 14,
   "metadata": {},
   "outputs": [
    {
     "data": {
      "text/plain": [
       "'\\n## the Branch order dictionary for each node is too big to hold in memory (too many nodes) - use different method \\n#BO = Axon.get_branch_order() # branch order dictionary ## makes kernel crash when tree is too big !!!\\n#BOposN = Counter(BO.values()) # number of nodes per BOid\\n#maxBO = len(BOposN)-1 # highest branch order \\n\\n'"
      ]
     },
     "execution_count": 14,
     "metadata": {},
     "output_type": "execute_result"
    }
   ],
   "source": [
    "'''\n",
    "## the Branch order dictionary for each node is too big to hold in memory (too many nodes) - use different method \n",
    "#BO = Axon.get_branch_order() # branch order dictionary ## makes kernel crash when tree is too big !!!\n",
    "#BOposN = Counter(BO.values()) # number of nodes per BOid\n",
    "#maxBO = len(BOposN)-1 # highest branch order \n",
    "\n",
    "'''"
   ]
  },
  {
   "cell_type": "code",
   "execution_count": 15,
   "metadata": {},
   "outputs": [],
   "source": [
    "ChildrenWeighed = modmorf.child_matrix_weighed2(Children, N, BP)  # ChildrenWeighed (edges = 0.5 if following BP, else =1)"
   ]
  },
  {
   "cell_type": "code",
   "execution_count": 16,
   "metadata": {},
   "outputs": [
    {
     "data": {
      "text/plain": [
       "{(0, 16665): 3332.9999999988313,\n",
       " (16665, 33330): 3333.220920306804,\n",
       " (16665, 83325): 3333.220920306804,\n",
       " (33330, 49995): 3333.058636943559,\n",
       " (33330, 66660): 3333.0639386411985,\n",
       " (83325, 116655): 3333.058636943559,\n",
       " (83325, 99990): 3333.0639386411985}"
      ]
     },
     "execution_count": 16,
     "metadata": {},
     "output_type": "execute_result"
    }
   ],
   "source": [
    "Axon.get_segment_length(dist='path_length')"
   ]
  },
  {
   "cell_type": "code",
   "execution_count": 17,
   "metadata": {},
   "outputs": [
    {
     "name": "stdout",
     "output_type": "stream",
     "text": [
      "[(0, 16665), (16665, 33330), (16665, 83325), (33330, 49995), (33330, 66660), (83325, 116655), (83325, 99990)]\n"
     ]
    }
   ],
   "source": [
    "segments_list = list(Axon.get_segment_length().keys()) # branch segments and their length (list)\n",
    "print(segments_list)"
   ]
  },
  {
   "cell_type": "code",
   "execution_count": 18,
   "metadata": {
    "scrolled": true
   },
   "outputs": [
    {
     "name": "stdout",
     "output_type": "stream",
     "text": [
      "9999.284858945526\n"
     ]
    }
   ],
   "source": [
    "distfromsoma = Axon.get_path_length()\n",
    "maxdistfromsoma = max(distfromsoma.values())\n",
    "print(maxdistfromsoma)"
   ]
  },
  {
   "cell_type": "code",
   "execution_count": 19,
   "metadata": {},
   "outputs": [],
   "source": [
    "xycoordinates = modmorf.xy_coordinates(Axon) # dict of xy corrdinates per node/position"
   ]
  },
  {
   "cell_type": "code",
   "execution_count": 20,
   "metadata": {},
   "outputs": [
    {
     "name": "stdout",
     "output_type": "stream",
     "text": [
      "23331.68699178195\n"
     ]
    }
   ],
   "source": [
    "totallength = sum((Axon.get_segment_length(dist='path_length')).values()) # total length of tree (all branches added)\n",
    "print(totallength)"
   ]
  },
  {
   "cell_type": "code",
   "execution_count": 21,
   "metadata": {},
   "outputs": [
    {
     "name": "stdout",
     "output_type": "stream",
     "text": [
      "{16666: [0], 16665: [1, 2, 2, 1, 2, 2]}\n",
      "{0: 16666, 1: 33330, 2: 66660}\n"
     ]
    }
   ],
   "source": [
    "### wrote BO_dict manually for \"tree_10_mm_path.swc\" because couln't figure out how to code \n",
    "BO_dict = {(0,16665):0 , (16666,33330):1 , (33331,49995):2 , (49996,66660):2 , (66661,83325):1 , (83326,99990):2 , (99991,116655):2}\n",
    "maxBO = max(BO_dict.values())\n",
    "\n",
    "\n",
    "#making BOposN Counter - counter of number of nodes (dict value) per branch order (key)\n",
    "\n",
    "lengths_dict = {}\n",
    "for segment, value in BO_dict.items():\n",
    "    x, y = segment\n",
    "    difference = (y - x )+1\n",
    "    if difference in lengths_dict:\n",
    "        lengths_dict[difference].append(value)\n",
    "    else:\n",
    "        lengths_dict[difference] = [value]\n",
    "\n",
    "print(lengths_dict)\n",
    "\n",
    "# Sum all the keys that have the same value\n",
    "\n",
    "BOposN = {}\n",
    "\n",
    "for value, ids in lengths_dict.items():\n",
    "    for i in ids:\n",
    "        if i in BOposN:\n",
    "            BOposN[i] += value\n",
    "        else:\n",
    "            BOposN[i] = value\n",
    "print(BOposN)"
   ]
  },
  {
   "cell_type": "markdown",
   "metadata": {},
   "source": [
    "## Parameters"
   ]
  },
  {
   "cell_type": "code",
   "execution_count": 22,
   "metadata": {},
   "outputs": [],
   "source": [
    "genotype = 'wt'  # 'wt' or 'tau' \n",
    "\n",
    "timestep = 1 # (second) 1 timestep = 1 second\n",
    "\n",
    "numtimesteps = 1728000    # number of timsteps per particle run (t)\n",
    "runs = 1000      #number of mitochondria (R)\n",
    "snapshot_num = 120 # None #in number of timesteps \n",
    "\n",
    "#intialisation paramters\n",
    "randompos = False\n",
    "randomstate = True\n",
    "x0 = 0 if randompos == False else None # x0 is None if randompos is True\n",
    "s0 = 3 if randomstate == False else None\n",
    "                           \n",
    "#states: off = 0, pause = 1, retrograde = 2, anterograde = 3 \n",
    "statesarray = np.array([0,1,2,3]) \n",
    "\n",
    "    #if randomstate = True, choosing steadyinit=False means that steady state (eigenvectors) will be used instead of specified states start probabilities below\n",
    "steadyinit = True \n",
    "states_startprob = [0.25, 0.25, 0.25, 0.25] if steadyinit == False else None \n",
    "\n",
    "if genotype == 'wt':\n",
    "    avg_mob_velocity = 0.7256 # um/s - calculated frrom Jame's data as mobile as avg evlocity of all mobiel timepoints\n",
    "    adjusted_velocity = ((avg_mob_velocity*timestep)/internode)-1 #(2.628 node/tinestep) (avg_velocity node/timestep -1)\n",
    "\n",
    "if genotype == 'tau':\n",
    "    avg_mob_velocity = 0.7247 # um/s - calculated frrom Jame's data as mobile as avg evlocity of all mobiel timepoints\n",
    "    adjusted_velocity = ((avg_mob_velocity*timestep)/internode)-1 #(2.628 node/tinestep) (avg_velocity node/timestep -1)\n"
   ]
  },
  {
   "cell_type": "code",
   "execution_count": 23,
   "metadata": {},
   "outputs": [],
   "source": [
    "## Optimised states transition probabilities parameters \n",
    "\n",
    "optiparams = [9.99996458e-01, 1.06270654e-07, 3.43608447e-06, 3.56562148e-04, 2.99893031e-02, 9.69654135e-01, 9.76096825e-05, \n",
    "              6.07894140e-01, 1.17602475e-02, 3.80248003e-01, 9.76096825e-05, 6.07894140e-01, 1.17602475e-02, 3.80248003e-01] # v4.1 wt single \n",
    "\n",
    "#optiparams = [9.99996458e-01, 9.85860103e-08, 3.44376912e-06, 3.56562148e-04, 4.43401543e-02, 9.55303284e-01, 9.76096825e-05,\n",
    "              #6.07894140e-01, 2.03938764e-03, 3.89968863e-01, 9.76096825e-05, 6.07894140e-01, 6.94925335e-02, 3.22515717e-01] #v4.1 wt multiple k flipped\n",
    "\n",
    "    \n",
    "#optiparams = [9.99993075e-01, 2.45484804e-06, 4.47036806e-06, 6.97478300e-01, 3.02324607e-01, 1.97092888e-04, 4.45601740e-04,\n",
    "              #6.83873293e-01, 3.09308252e-01, 6.37285335e-03, 4.45601740e-04, 6.83873293e-01, 2.26598180e-01, 8.90829255e-02] # tau\n",
    "\n",
    "#optiparams = [9.99993075e-01, 4.47036806e-06, 2.45484804e-06, 6.97478300e-01, 1.97092888e-04, 3.02324607e-01, 4.45601740e-04,\n",
    "              #6.83873293e-01, 6.37285335e-03, 3.09308252e-01, 4.45601740e-04, 6.83873293e-01, 8.90829255e-02, 2.26598180e-01] # tau A/R flip"
   ]
  },
  {
   "cell_type": "code",
   "execution_count": null,
   "metadata": {},
   "outputs": [],
   "source": [
    "'''\n",
    "## k variations of optiparam ## \n",
    "k = 0.97\n",
    "\n",
    "if k == 0.05:\n",
    "    optiparams = [9.99996458e-01, 1.77117756e-07, 3.36523737e-06, 3.56562148e-04, 4.99821719e-02, 9.49661266e-01, 9.76096825e-05, \n",
    "                  6.07894140e-01, 1.96004125e-02, 3.72407838e-01, 9.76096825e-05, 6.07894140e-01, 1.96004125e-02, 3.72407838e-01]\n",
    "\n",
    "if k == 0.10:\n",
    "    optiparams = [9.99996458e-01, 3.54235513e-07, 3.18811961e-06, 3.56562148e-04, 9.99643438e-02, 8.99679094e-01, 9.76096825e-05,\n",
    "                  6.07894140e-01, 3.92008250e-02, 3.52807425e-01, 9.76096825e-05, 6.07894140e-01, 3.92008250e-02, 3.52807425e-01]\n",
    "\n",
    "if k == 0.20:\n",
    "    optiparams = [9.99996458e-01, 7.08471025e-07, 2.83388410e-06, 3.56562148e-04, 1.99928688e-01, 7.99714750e-01, 9.76096825e-05,\n",
    "                  6.07894140e-01, 7.84016501e-02, 3.13606600e-01, 9.76096825e-05, 6.07894140e-01, 7.84016501e-02, 3.13606600e-01]\n",
    "\n",
    "if k == 0.30: \n",
    "    optiparams = [9.99996458e-01, 1.06270654e-06, 2.47964859e-06, 3.56562148e-04, 2.99893031e-01, 6.99750406e-01, 9.76096825e-05,\n",
    "                  6.07894140e-01, 1.17602475e-01, 2.74405775e-01, 9.76096825e-05, 6.07894140e-01, 1.17602475e-01, 2.74405775e-01]\n",
    "\n",
    "if k == 0.40:\n",
    "    optiparams = [9.99996458e-01, 1.41694205e-06, 2.12541308e-06, 3.56562148e-04, 3.99857375e-01, 5.99786063e-01, 9.76096825e-05,\n",
    "                  6.07894140e-01, 1.56803300e-01, 2.35204950e-01, 9.76096825e-05, 6.07894140e-01, 1.56803300e-01, 2.35204950e-01]\n",
    "    \n",
    "if k == 0.50:\n",
    "    optiparams = [9.99996458e-01, 1.77117756e-06, 1.77117756e-06, 3.56562148e-04, 4.99821719e-01, 4.99821719e-01, 9.76096825e-05,\n",
    "                  6.07894140e-01, 1.96004125e-01, 1.96004125e-01, 9.76096825e-05, 6.07894140e-01, 1.96004125e-01, 1.96004125e-01]\n",
    "\n",
    "if k == 0.60:\n",
    "    optiparams = [9.99996458e-01, 2.12541308e-06, 1.41694205e-06, 3.56562148e-04, 5.99786063e-01, 3.99857375e-01, 9.76096825e-05,\n",
    "                  6.07894140e-01, 2.35204950e-01, 1.56803300e-01, 9.76096825e-05, 6.07894140e-01, 2.35204950e-01, 1.56803300e-01]\n",
    "    \n",
    "if k == 0.70:\n",
    "    optiparams = [9.99996458e-01, 2.47964859e-06, 1.06270654e-06, 3.56562148e-04, 6.99750406e-01, 2.99893031e-01, 9.76096825e-05,\n",
    "                  6.07894140e-01, 2.74405775e-01, 1.17602475e-01, 9.76096825e-05, 6.07894140e-01, 2.74405775e-01, 1.17602475e-01]\n",
    "\n",
    "if k == 0.80:\n",
    "    optiparams = [9.99996458e-01, 2.83388410e-06, 7.08471025e-07, 3.56562148e-04, 7.99714750e-01, 1.99928688e-01, 9.76096825e-05,\n",
    "                  6.07894140e-01, 3.13606600e-01, 7.84016501e-02, 9.76096825e-05, 6.07894140e-01, 3.13606600e-01, 7.84016501e-02]\n",
    "    \n",
    "if k == 0.90: \n",
    "    optiparams = [9.99996458e-01, 3.18811961e-06, 3.54235513e-07, 3.56562148e-04, 8.99679094e-01, 9.99643438e-02, 9.76096825e-05, \n",
    "                  6.07894140e-01, 3.52807425e-01, 3.92008250e-02, 9.76096825e-05, 6.07894140e-01, 3.52807425e-01, 3.92008250e-02]\n",
    "\n",
    "if k == 0.95: \n",
    "    optiparams = [9.99996458e-01, 3.36523737e-06, 1.77117756e-07, 3.56562148e-04, 9.49661266e-01, 4.99821719e-02, 9.76096825e-05, \n",
    "                  6.07894140e-01, 3.72407838e-01, 1.96004125e-02, 9.76096825e-05, 6.07894140e-01, 3.72407838e-01, 1.96004125e-02]\n",
    "    \n",
    "if k == 0.97: \n",
    "    optiparams = [9.99996458e-01, 3.43608447e-06, 1.06270654e-07, 3.56562148e-04, 9.69654135e-01, 2.99893031e-02, 9.76096825e-05,\n",
    "                  6.07894140e-01, 3.80248003e-01, 1.17602475e-02, 9.76096825e-05, 6.07894140e-01, 3.80248003e-01, 1.17602475e-02]\n",
    "'''"
   ]
  },
  {
   "cell_type": "code",
   "execution_count": 24,
   "metadata": {},
   "outputs": [],
   "source": [
    "paramfixed  = {'genotype':genotype, 'numtimesteps': numtimesteps, 'runs': runs, 'snapshot_num': snapshot_num, 'statesarray':statesarray, 'adjusted_velocity':adjusted_velocity, \n",
    "               'N': N, 'x0':x0, 's0': s0, 'states_startprob':states_startprob, 'randompos':randompos, 'randomstate':randomstate, 'steadyinit':steadyinit,\n",
    "              'EP':EP, 'BP':BP, 'CBP':CBP, 'transitions': optiparams, 'morphofile': morphofile, 'nodedist': internode}\n"
   ]
  },
  {
   "cell_type": "code",
   "execution_count": 25,
   "metadata": {
    "scrolled": true
   },
   "outputs": [
    {
     "name": "stdout",
     "output_type": "stream",
     "text": [
      "[36000, 432000, 864000, 1296000, 1728000, 2160000, 2592000, 3024000, 3456000]\n"
     ]
    }
   ],
   "source": [
    "##degradation parameters\n",
    "degr_range_h = [10, 120, 240, 360, 480, 600, 720, 840, 960] #hours \n",
    "degr_range = [i * 3600 for i in degr_range_h]\n",
    "print(degr_range)"
   ]
  },
  {
   "cell_type": "markdown",
   "metadata": {},
   "source": [
    "## Steady states and calculations"
   ]
  },
  {
   "cell_type": "code",
   "execution_count": 26,
   "metadata": {},
   "outputs": [],
   "source": [
    "s0s0, s0s2, s0s3, s1s1, s1s2, s1s3, s2s0, s2s1, s2s2, s2s3, s3s0, s3s1, s3s2, s3s3 = optiparams\n",
    "    \n",
    "s0s1 = 0\n",
    "s1s0 = 0\n",
    "\n",
    "#build transition probabilities arrays\n",
    "Tr = np.array([[s0s0, s0s1, s0s2, s0s3], [s1s0, s1s1, s1s2, s1s3], [s2s0, s2s1, s2s2, s2s3], [s3s0, s3s1, s3s2, s3s3]], dtype='float')"
   ]
  },
  {
   "cell_type": "code",
   "execution_count": 27,
   "metadata": {},
   "outputs": [
    {
     "name": "stdout",
     "output_type": "stream",
     "text": [
      "[0.94485821 0.020852   0.00102869 0.0332611 ]\n",
      "1.0\n"
     ]
    }
   ],
   "source": [
    "eigenvalues, eigenvectors = np.linalg.eig(np.asmatrix(Tr).T)\n",
    "steady_state_index = np.where(np.isclose(eigenvalues, 1))[0][0]\n",
    "steady_state_vector = abs(np.real(eigenvectors[:, steady_state_index]))\n",
    "steady_state_vector = np.asarray(steady_state_vector.ravel())[0]\n",
    "steady = steady_state_vector/np.sum(steady_state_vector)\n",
    "\n",
    "print(steady) # steady states\n",
    "print(sum(steady))"
   ]
  },
  {
   "cell_type": "code",
   "execution_count": 28,
   "metadata": {},
   "outputs": [],
   "source": [
    "#scale on-track steady states \n",
    "steadysum = steady[1]+steady[2]+steady[3]\n",
    "scaleP = steady[1]/steadysum\n",
    "scaleR = steady[2]/steadysum\n",
    "scaleA = steady[3]/steadysum"
   ]
  },
  {
   "cell_type": "code",
   "execution_count": 29,
   "metadata": {},
   "outputs": [
    {
     "name": "stdout",
     "output_type": "stream",
     "text": [
      "average run length 6987.66743821448 um\n",
      "average run time 16474.912405768577 sec\n",
      "sum_sc_transitions:6.069835003492078e-05\n"
     ]
    }
   ],
   "source": [
    "#multiply scaled steady states by transition state -> off track\n",
    "scPO = scaleP*0 \n",
    "scRO = scaleR*s2s0 \n",
    "scAO = scaleA*s3s0\n",
    "\n",
    "#sum those transitions \n",
    "sum_sc_transitions = scPO + scRO + scAO\n",
    "\n",
    "#timestep = 1 second, node interval = 0.2 um, velocity when moving =  0.7256 um/sec\n",
    "timestep = 1\n",
    "velocity = 0.7256\n",
    "\n",
    "#run time \n",
    "avg_runtime = timestep/(sum_sc_transitions) #in seconds \n",
    "\n",
    "\n",
    "#run length \n",
    "avg_runlength = avg_runtime*velocity*(scaleA - scaleR)\n",
    "\n",
    "\n",
    "print(f\"average run length {avg_runlength} um\")\n",
    "print(f\"average run time {avg_runtime} sec\")\n",
    "print(f\"sum_sc_transitions:{ sum_sc_transitions}\")\n"
   ]
  },
  {
   "cell_type": "markdown",
   "metadata": {},
   "source": [
    "## Simulation"
   ]
  },
  {
   "cell_type": "code",
   "execution_count": null,
   "metadata": {},
   "outputs": [],
   "source": [
    "## Without snapshot (only use if small simulation time)\n",
    "\n",
    "Xresult, Sresult = modsim.sim_ensemble(Parent,ChildrenWeighed, paramfixed, optiparams, scale=True)  # arrays are 2d where row = 1 run and column = timepoint \n"
   ]
  },
  {
   "cell_type": "code",
   "execution_count": 30,
   "metadata": {},
   "outputs": [],
   "source": [
    "## With snapshot\n",
    "\n",
    "Xresult, Sresult = modsim.sim_ensemble_snapshot(Parent,ChildrenWeighed,paramfixed, optiparams, snapshot = snapshot_num, scale=True)  # arrays are 2d where row = 1 run and column = timepoint \n",
    "                            #X[i] is particle/run number i in range(R)   \n"
   ]
  },
  {
   "cell_type": "code",
   "execution_count": 31,
   "metadata": {},
   "outputs": [],
   "source": [
    "## Degradation on sapshot Xresult/Sresult (using degradation mean)\n",
    "\n",
    "XresultDeg, SresultDeg = modsim.degrade(degr_range[8]/snapshot_num, Xresult, Sresult, runs, int(numtimesteps/snapshot_num), timestep)\n"
   ]
  },
  {
   "cell_type": "markdown",
   "metadata": {},
   "source": [
    "## Simulations with k variations"
   ]
  },
  {
   "cell_type": "code",
   "execution_count": null,
   "metadata": {},
   "outputs": [],
   "source": [
    "#k = 0.03\n",
    "optiparams = [9.99996458e-01, 1.06270654e-07, 3.43608447e-06, 3.56562148e-04, 2.99893031e-02, 9.69654135e-01, 9.76096825e-05, \n",
    "              6.07894140e-01, 1.17602475e-02, 3.80248003e-01, 9.76096825e-05, 6.07894140e-01, 1.17602475e-02, 3.80248003e-01]\n",
    "\n",
    "paramfixed  = {'genotype':genotype, 'numtimesteps': numtimesteps, 'runs': runs, 'snapshot_num': snapshot_num, 'statesarray':statesarray, 'adjusted_velocity':adjusted_velocity, \n",
    "               'N': N, 'x0':x0, 's0': s0, 'states_startprob':states_startprob, 'randompos':randompos, 'randomstate':randomstate, 'steadyinit':steadyinit,\n",
    "              'EP':EP, 'BP':BP, 'CBP':CBP, 'transitions': optiparams, 'morphofile': morphofile, 'nodedist': internode}\n",
    "\n",
    "Xresult, Sresult = modsim.sim_ensemble_snapshot(Parent,ChildrenWeighed,paramfixed, optiparams, snapshot = snapshot_num, scale=True)\n",
    "#np.savez(save_dir+'//sim_results_03.npz', Xresult = Xresult, Sresult = Sresult)                         "
   ]
  },
  {
   "cell_type": "code",
   "execution_count": null,
   "metadata": {},
   "outputs": [],
   "source": [
    "# k = 0.10\n",
    "optiparams = [9.99996458e-01, 3.54235513e-07, 3.18811961e-06, 3.56562148e-04, 9.99643438e-02, 8.99679094e-01, 9.76096825e-05,\n",
    "              6.07894140e-01, 3.92008250e-02, 3.52807425e-01, 9.76096825e-05, 6.07894140e-01, 3.92008250e-02, 3.52807425e-01]\n",
    "\n",
    "paramfixed  = {'genotype':genotype, 'numtimesteps': numtimesteps, 'runs': runs, 'snapshot_num': snapshot_num, 'statesarray':statesarray, 'adjusted_velocity':adjusted_velocity, \n",
    "               'N': N, 'x0':x0, 's0': s0, 'states_startprob':states_startprob, 'randompos':randompos, 'randomstate':randomstate, 'steadyinit':steadyinit,\n",
    "              'EP':EP, 'BP':BP, 'CBP':CBP, 'transitions': optiparams, 'morphofile': morphofile, 'nodedist': internode}\n",
    "\n",
    "Xresult, Sresult = modsim.sim_ensemble_snapshot(Parent,ChildrenWeighed,paramfixed, optiparams, snapshot = snapshot_num, scale=True)\n",
    "#np.savez(save_dir+'//sim_results_10.npz', Xresult = Xresult, Sresult = Sresult)   "
   ]
  },
  {
   "cell_type": "code",
   "execution_count": null,
   "metadata": {},
   "outputs": [],
   "source": [
    "#k = 0.20 \n",
    "optiparams = [9.99996458e-01, 7.08471025e-07, 2.83388410e-06, 3.56562148e-04, 1.99928688e-01, 7.99714750e-01, 9.76096825e-05,\n",
    "              6.07894140e-01, 7.84016501e-02, 3.13606600e-01, 9.76096825e-05, 6.07894140e-01, 7.84016501e-02, 3.13606600e-01]\n",
    "\n",
    "paramfixed  = {'genotype':genotype, 'numtimesteps': numtimesteps, 'runs': runs, 'snapshot_num': snapshot_num, 'statesarray':statesarray, 'adjusted_velocity':adjusted_velocity, \n",
    "               'N': N, 'x0':x0, 's0': s0, 'states_startprob':states_startprob, 'randompos':randompos, 'randomstate':randomstate, 'steadyinit':steadyinit,\n",
    "              'EP':EP, 'BP':BP, 'CBP':CBP, 'transitions': optiparams, 'morphofile': morphofile, 'nodedist': internode}\n",
    "\n",
    "Xresult, Sresult = modsim.sim_ensemble_snapshot(Parent,ChildrenWeighed,paramfixed, optiparams, snapshot = snapshot_num, scale=True)\n",
    "#np.savez(save_dir+'//sim_results_20.npz', Xresult = Xresult, Sresult = Sresult)   "
   ]
  },
  {
   "cell_type": "code",
   "execution_count": null,
   "metadata": {},
   "outputs": [],
   "source": [
    "#k = 0.30\n",
    "optiparams = [9.99996458e-01, 1.06270654e-06, 2.47964859e-06, 3.56562148e-04, 2.99893031e-01, 6.99750406e-01, 9.76096825e-05,\n",
    "              6.07894140e-01, 1.17602475e-01, 2.74405775e-01, 9.76096825e-05, 6.07894140e-01, 1.17602475e-01, 2.74405775e-01]\n",
    "\n",
    "\n",
    "paramfixed  = {'genotype':genotype, 'numtimesteps': numtimesteps, 'runs': runs, 'snapshot_num': snapshot_num, 'statesarray':statesarray, 'adjusted_velocity':adjusted_velocity, \n",
    "               'N': N, 'x0':x0, 's0': s0, 'states_startprob':states_startprob, 'randompos':randompos, 'randomstate':randomstate, 'steadyinit':steadyinit,\n",
    "              'EP':EP, 'BP':BP, 'CBP':CBP, 'transitions': optiparams, 'morphofile': morphofile, 'nodedist': internode}\n",
    "\n",
    "Xresult, Sresult = modsim.sim_ensemble_snapshot(Parent,ChildrenWeighed,paramfixed, optiparams, snapshot = snapshot_num, scale=True)\n",
    "#np.savez(save_dir+'//sim_results_30.npz', Xresult = Xresult, Sresult = Sresult)   "
   ]
  },
  {
   "cell_type": "code",
   "execution_count": null,
   "metadata": {},
   "outputs": [],
   "source": [
    "#k = 0.40\n",
    "\n",
    "optiparams = [9.99996458e-01, 1.41694205e-06, 2.12541308e-06, 3.56562148e-04, 3.99857375e-01, 5.99786063e-01, 9.76096825e-05,\n",
    "              6.07894140e-01, 1.56803300e-01, 2.35204950e-01, 9.76096825e-05, 6.07894140e-01, 1.56803300e-01, 2.35204950e-01]\n",
    "\n",
    "paramfixed  = {'genotype':genotype, 'numtimesteps': numtimesteps, 'runs': runs, 'snapshot_num': snapshot_num, 'statesarray':statesarray, 'adjusted_velocity':adjusted_velocity, \n",
    "               'N': N, 'x0':x0, 's0': s0, 'states_startprob':states_startprob, 'randompos':randompos, 'randomstate':randomstate, 'steadyinit':steadyinit,\n",
    "              'EP':EP, 'BP':BP, 'CBP':CBP, 'transitions': optiparams, 'morphofile': morphofile, 'nodedist': internode}\n",
    "\n",
    "Xresult, Sresult = modsim.sim_ensemble_snapshot(Parent,ChildrenWeighed,paramfixed, optiparams, snapshot = snapshot_num, scale=True)\n",
    "#np.savez(save_dir+'//sim_results_40.npz', Xresult = Xresult, Sresult = Sresult)   "
   ]
  },
  {
   "cell_type": "code",
   "execution_count": null,
   "metadata": {},
   "outputs": [],
   "source": [
    "#k = 0.50\n",
    "optiparams = [9.99996458e-01, 1.77117756e-06, 1.77117756e-06, 3.56562148e-04, 4.99821719e-01, 4.99821719e-01, 9.76096825e-05,\n",
    "              6.07894140e-01, 1.96004125e-01, 1.96004125e-01, 9.76096825e-05, 6.07894140e-01, 1.96004125e-01, 1.96004125e-01]\n",
    "\n",
    "\n",
    "paramfixed  = {'genotype':genotype, 'numtimesteps': numtimesteps, 'runs': runs, 'snapshot_num': snapshot_num, 'statesarray':statesarray, 'adjusted_velocity':adjusted_velocity, \n",
    "               'N': N, 'x0':x0, 's0': s0, 'states_startprob':states_startprob, 'randompos':randompos, 'randomstate':randomstate, 'steadyinit':steadyinit,\n",
    "              'EP':EP, 'BP':BP, 'CBP':CBP, 'transitions': optiparams, 'morphofile': morphofile, 'nodedist': internode}\n",
    "\n",
    "Xresult, Sresult = modsim.sim_ensemble_snapshot(Parent,ChildrenWeighed,paramfixed, optiparams, snapshot = snapshot_num, scale=True)\n",
    "#np.savez(save_dir+'//sim_results_50.npz', Xresult = Xresult, Sresult = Sresult)   "
   ]
  },
  {
   "cell_type": "code",
   "execution_count": null,
   "metadata": {},
   "outputs": [],
   "source": [
    "#k = 0.60\n",
    "optiparams = [9.99996458e-01, 2.12541308e-06, 1.41694205e-06, 3.56562148e-04, 5.99786063e-01, 3.99857375e-01, 9.76096825e-05,\n",
    "              6.07894140e-01, 2.35204950e-01, 1.56803300e-01, 9.76096825e-05, 6.07894140e-01, 2.35204950e-01, 1.56803300e-01]\n",
    "\n",
    "\n",
    "paramfixed  = {'genotype':genotype, 'numtimesteps': numtimesteps, 'runs': runs, 'snapshot_num': snapshot_num, 'statesarray':statesarray, 'adjusted_velocity':adjusted_velocity, \n",
    "               'N': N, 'x0':x0, 's0': s0, 'states_startprob':states_startprob, 'randompos':randompos, 'randomstate':randomstate, 'steadyinit':steadyinit,\n",
    "              'EP':EP, 'BP':BP, 'CBP':CBP, 'transitions': optiparams, 'morphofile': morphofile, 'nodedist': internode}\n",
    "\n",
    "Xresult, Sresult = modsim.sim_ensemble_snapshot(Parent,ChildrenWeighed,paramfixed, optiparams, snapshot = snapshot_num, scale=True)\n",
    "#np.savez(save_dir+'//sim_results_60.npz', Xresult = Xresult, Sresult = Sresult)   "
   ]
  },
  {
   "cell_type": "code",
   "execution_count": null,
   "metadata": {},
   "outputs": [],
   "source": [
    "#k = 0.70\n",
    "optiparams = [9.99996458e-01, 2.47964859e-06, 1.06270654e-06, 3.56562148e-04, 6.99750406e-01, 2.99893031e-01, 9.76096825e-05,\n",
    "              6.07894140e-01, 2.74405775e-01, 1.17602475e-01, 9.76096825e-05, 6.07894140e-01, 2.74405775e-01, 1.17602475e-01]\n",
    "\n",
    "\n",
    "paramfixed  = {'genotype':genotype, 'numtimesteps': numtimesteps, 'runs': runs, 'snapshot_num': snapshot_num, 'statesarray':statesarray, 'adjusted_velocity':adjusted_velocity, \n",
    "               'N': N, 'x0':x0, 's0': s0, 'states_startprob':states_startprob, 'randompos':randompos, 'randomstate':randomstate, 'steadyinit':steadyinit,\n",
    "              'EP':EP, 'BP':BP, 'CBP':CBP, 'transitions': optiparams, 'morphofile': morphofile, 'nodedist': internode}\n",
    "\n",
    "Xresult, Sresult = modsim.sim_ensemble_snapshot(Parent,ChildrenWeighed,paramfixed, optiparams, snapshot = snapshot_num, scale=True)\n",
    "#np.savez(save_dir+'//sim_results_70.npz', Xresult = Xresult, Sresult = Sresult)   "
   ]
  },
  {
   "cell_type": "code",
   "execution_count": null,
   "metadata": {},
   "outputs": [],
   "source": [
    "#k = 0.80\n",
    "optiparams = [9.99996458e-01, 2.83388410e-06, 7.08471025e-07, 3.56562148e-04, 7.99714750e-01, 1.99928688e-01, 9.76096825e-05,\n",
    "              6.07894140e-01, 3.13606600e-01, 7.84016501e-02, 9.76096825e-05, 6.07894140e-01, 3.13606600e-01, 7.84016501e-02]\n",
    "\n",
    "paramfixed  = {'genotype':genotype, 'numtimesteps': numtimesteps, 'runs': runs, 'snapshot_num': snapshot_num, 'statesarray':statesarray, 'adjusted_velocity':adjusted_velocity, \n",
    "               'N': N, 'x0':x0, 's0': s0, 'states_startprob':states_startprob, 'randompos':randompos, 'randomstate':randomstate, 'steadyinit':steadyinit,\n",
    "              'EP':EP, 'BP':BP, 'CBP':CBP, 'transitions': optiparams, 'morphofile': morphofile, 'nodedist': internode}\n",
    "\n",
    "Xresult, Sresult = modsim.sim_ensemble_snapshot(Parent,ChildrenWeighed,paramfixed, optiparams, snapshot = snapshot_num, scale=True)\n",
    "#np.savez(save_dir+'//sim_results_80.npz', Xresult = Xresult, Sresult = Sresult)   "
   ]
  },
  {
   "cell_type": "code",
   "execution_count": null,
   "metadata": {},
   "outputs": [],
   "source": [
    "#k = 0.90\n",
    "optiparams = [9.99996458e-01, 3.18811961e-06, 3.54235513e-07, 3.56562148e-04, 8.99679094e-01, 9.99643438e-02, 9.76096825e-05, \n",
    "              6.07894140e-01, 3.52807425e-01, 3.92008250e-02, 9.76096825e-05, 6.07894140e-01, 3.52807425e-01, 3.92008250e-02]\n",
    "\n",
    "paramfixed  = {'genotype':genotype, 'numtimesteps': numtimesteps, 'runs': runs, 'snapshot_num': snapshot_num, 'statesarray':statesarray, 'adjusted_velocity':adjusted_velocity, \n",
    "               'N': N, 'x0':x0, 's0': s0, 'states_startprob':states_startprob, 'randompos':randompos, 'randomstate':randomstate, 'steadyinit':steadyinit,\n",
    "              'EP':EP, 'BP':BP, 'CBP':CBP, 'transitions': optiparams, 'morphofile': morphofile, 'nodedist': internode}\n",
    "\n",
    "Xresult, Sresult = modsim.sim_ensemble_snapshot(Parent,ChildrenWeighed,paramfixed, optiparams, snapshot = snapshot_num, scale=True)\n",
    "#np.savez(save_dir+'//sim_results_90.npz', Xresult = Xresult, Sresult = Sresult)   "
   ]
  },
  {
   "cell_type": "code",
   "execution_count": null,
   "metadata": {},
   "outputs": [],
   "source": [
    "#k = 0.97\n",
    "optiparams = [9.99996458e-01, 3.43608447e-06, 1.06270654e-07, 3.56562148e-04, 9.69654135e-01, 2.99893031e-02, 9.76096825e-05,\n",
    "                  6.07894140e-01, 3.80248003e-01, 1.17602475e-02, 9.76096825e-05, 6.07894140e-01, 3.80248003e-01, 1.17602475e-02]\n",
    "\n",
    "paramfixed  = {'genotype':genotype, 'numtimesteps': numtimesteps, 'runs': runs, 'snapshot_num': snapshot_num, 'statesarray':statesarray, 'adjusted_velocity':adjusted_velocity, \n",
    "               'N': N, 'x0':x0, 's0': s0, 'states_startprob':states_startprob, 'randompos':randompos, 'randomstate':randomstate, 'steadyinit':steadyinit,\n",
    "              'EP':EP, 'BP':BP, 'CBP':CBP, 'transitions': optiparams, 'morphofile': morphofile, 'nodedist': internode}\n",
    "\n",
    "Xresult, Sresult = modsim.sim_ensemble_snapshot(Parent,ChildrenWeighed,paramfixed, optiparams, snapshot = snapshot_num, scale=True)\n",
    "#np.savez(save_dir+'//sim_results_97.npz', Xresult = Xresult, Sresult = Sresult)"
   ]
  },
  {
   "cell_type": "markdown",
   "metadata": {},
   "source": [
    "## Post simulation processing/plotting"
   ]
  },
  {
   "cell_type": "code",
   "execution_count": 32,
   "metadata": {},
   "outputs": [],
   "source": [
    "## use this when snapshot was used in simulations! for the sake of easy post simualtion functions: \n",
    "numtimesteps_post= int(numtimesteps/snapshot_num)\n",
    "\n",
    "#numtimesteps_post = numtimesteps # when no snapshot was used"
   ]
  },
  {
   "cell_type": "code",
   "execution_count": 33,
   "metadata": {},
   "outputs": [],
   "source": [
    "## Functions to compute runtime i.e. time to reach an endpoint once moving. Does not take into account mitohcondira that are already moving\n",
    "def find_first_occurrence_in_list(arr,mylist):\n",
    "    mask = np.isin(arr, mylist)\n",
    "    if np.any(mask):\n",
    "        return np.argmax(mask) \n",
    "    else: \n",
    "        return -1\n",
    "\n",
    "def find_nonzero_occurrence(arr):\n",
    "    mask = arr != 0   \n",
    "    if np.any(mask):\n",
    "        return np.argmax(mask)\n",
    "    else:\n",
    "        return -1\n",
    "\n",
    "def runtimes(array): # \n",
    "    runtime = np.empty(runs, dtype=int)\n",
    "    for i in range((runs)):\n",
    "        start = find_nonzero_occurrence(array[i])\n",
    "        end = find_first_occurrence_in_list(array[i],EP)\n",
    "        if start >= 0 and end > 0 : \n",
    "            runtime[i] = end-start    \n",
    "        else:\n",
    "            runtime[i] = -1\n",
    "    \n",
    "    return runtime"
   ]
  },
  {
   "cell_type": "code",
   "execution_count": 34,
   "metadata": {},
   "outputs": [],
   "source": [
    "runtimesresults = runtimes(Xresult)*snapshot_num/(timestep*3600)\n"
   ]
  },
  {
   "cell_type": "code",
   "execution_count": 35,
   "metadata": {},
   "outputs": [],
   "source": [
    "XSoma = modout.convert_vector(Xresult,distfromsoma, numtimesteps_post, runs) # chnage X position node id to distqnce from soma at each timepoint "
   ]
  },
  {
   "cell_type": "code",
   "execution_count": 36,
   "metadata": {},
   "outputs": [],
   "source": [
    "def find_boid(dictionary, current_value): #dictioanry is BO dictionary\n",
    "    for segment, value in dictionary.items():\n",
    "        x, y = segment\n",
    "        if x <= current_value <= y:\n",
    "            return value"
   ]
  },
  {
   "cell_type": "code",
   "execution_count": 37,
   "metadata": {},
   "outputs": [],
   "source": [
    "# to improve - can make R optional?\n",
    "def convert_vector_inverseBOdict (vector, dictionary, t, R):\n",
    "    \"\"\"\n",
    "    requires find_boid function \n",
    "    \n",
    "    returns\n",
    "        vector2 = vector with nodes ID converted to new id i.e. BO id or dist from soma \n",
    "                  (1d of length t / or 2d of shape (R,t) according to input)\n",
    "    \n",
    "    args \n",
    "        vector = vector of position sequence to be converted, can be 1d or 2d  i.e. xvector or X\n",
    "        dictionary = inverse BOID dictionary\n",
    "        t = number of timepoints\n",
    "        R = number of particles/runs\n",
    "        \n",
    "\n",
    "    \"\"\"\n",
    "    if vector.ndim == 1:                        #if input vector is 1d vector\n",
    "        vector2 = np.empty(t, dtype=float)          #initialise new 1d vector\n",
    "    \n",
    "        for i in range(t):                       #convert each node into its new id (ie. its BOid if using BO dictionary)\n",
    "            if vector[i]>=0:\n",
    "                vector2[i] = find_boid(dictionary,vector[i])\n",
    "            else:\n",
    "                vector2[i] = -99999\n",
    "    \n",
    "    else:                                      #if input vector is 2d\n",
    "        vector2 = np.empty((R,t), dtype=float)      #initialise new 2d vector\n",
    "        \n",
    "        for i in range(R):\n",
    "            for j in range(t):\n",
    "                if vector[i][j]>=0:\n",
    "                    vector2[i][j] = find_boid(dictionary,vector[i][j]) #convert each node into its new id (ie. its BOid if using BO dictionary)\n",
    "                else:\n",
    "                    vector2[i][j] = -99999\n",
    "    return vector2"
   ]
  },
  {
   "cell_type": "code",
   "execution_count": 38,
   "metadata": {},
   "outputs": [],
   "source": [
    "#with inverse BO_ID dictionary for large structures\n",
    "XBO = convert_vector_inverseBOdict(Xresult,BO_dict,numtimesteps_post,runs) # X array where position ID is transfored to BO ID"
   ]
  },
  {
   "cell_type": "code",
   "execution_count": 39,
   "metadata": {},
   "outputs": [
    {
     "data": {
      "text/plain": [
       "'\\n#with normal BOI-ID dict - not used anymore\\nXBO = modout.convert_vector(Xresult,BO,numtimesteps_post,runs) # X array where position ID is transfored to BO ID\\nXBO = XBO.astype(int)\\n'"
      ]
     },
     "execution_count": 39,
     "metadata": {},
     "output_type": "execute_result"
    }
   ],
   "source": [
    "'''\n",
    "#with normal BOI-ID dict - not used anymore\n",
    "XBO = modout.convert_vector(Xresult,BO,numtimesteps_post,runs) # X array where position ID is transfored to BO ID\n",
    "XBO = XBO.astype(int)\n",
    "'''"
   ]
  },
  {
   "cell_type": "code",
   "execution_count": 40,
   "metadata": {},
   "outputs": [],
   "source": [
    "BOnumbermitos = modout.count_mitos(XBO, maxBO, numtimesteps_post, None) # dictionary {timepoint: Counter({boid:count, boid:count, ...})}"
   ]
  },
  {
   "cell_type": "code",
   "execution_count": 41,
   "metadata": {},
   "outputs": [],
   "source": [
    "def count_BOid_nested(countdataBO, maxBrOrd,t):\n",
    "    \"\"\"\n",
    "    returns \n",
    "        nested array of normalised counted data (i.e. number of mitos per BOid etc) per number of nodes with same BOid for nested dict like {tp:{0: x , 1:y ...}\n",
    "    args \n",
    "        countdataBO = counted data from a vector converted to BOid (previous required functions: vector_to_BOvector & count_...)\n",
    "        BrOrdposN =  number of nodes per BOid /use BOposN\n",
    "        maxBrOrd = highest branch order / use maxBO \n",
    "        t = number of timepoints \n",
    "    \"\"\"\n",
    "    countarray = np.empty((t, maxBrOrd+1))      # initialise array\n",
    "    \n",
    "    for i in range(t):\n",
    "        for j in range(maxBrOrd+1):\n",
    "            countarray[i][j] = countdataBO[i][j]         \n",
    "        \n",
    "    return countarray "
   ]
  },
  {
   "cell_type": "code",
   "execution_count": 42,
   "metadata": {},
   "outputs": [],
   "source": [
    "BOnumbermitos_array = count_BOid_nested(BOnumbermitos, maxBO,numtimesteps_post)"
   ]
  },
  {
   "cell_type": "code",
   "execution_count": 43,
   "metadata": {},
   "outputs": [],
   "source": [
    "numbermitosEP = modout.count_mitos_spec(numtimesteps_post, N, Xresult, pos_list=EP, dist_dict=None, interval=None) # specific endpoints"
   ]
  },
  {
   "cell_type": "code",
   "execution_count": 44,
   "metadata": {},
   "outputs": [],
   "source": [
    "# extend EP list to  positions that are 5um from the tips\n",
    "node_EP_range = int(5/internode) #number of nodes to make 5um \n",
    "\n",
    "EP_5um_nested = []\n",
    "for i in EP:\n",
    "    EP_5um_nested.append(list(i - np.array(range(node_EP_range))))\n",
    "\n",
    "EP_5um = [item for sublist in EP_5um_nested for item in sublist] # flatten list\n",
    "\n",
    "numbermitosEP_5um = modout.count_mitos_spec(numtimesteps_post, N, Xresult, pos_list=EP_5um, dist_dict=None, interval=None) # specific endpoints"
   ]
  },
  {
   "cell_type": "code",
   "execution_count": 45,
   "metadata": {},
   "outputs": [],
   "source": [
    "#individual timepoints for figures\n",
    "tpi = [150, int(numtimesteps_post/2), numtimesteps_post-1]"
   ]
  },
  {
   "cell_type": "code",
   "execution_count": 46,
   "metadata": {},
   "outputs": [],
   "source": [
    "# X soma BO tp -> dictionarry of selected timepoints (in tpi) \n",
    "#containing all the positions (coded as distance from soma) sepereaed into lists correspinding to Branch order ID \n",
    "#ie 3 BO -> 3 lists each containing all the positions at that timepoint) \n",
    "\n",
    "XSomaBOtp = {} # initialize dictionary\n",
    "\n",
    "for h in tpi:\n",
    "    XSomaBOtp[h] = [[] for i in range(maxBO)]\n",
    "    for j in range(maxBO):\n",
    "        for i in range(runs):\n",
    "            if XBO[i,h] == j:\n",
    "                XSomaBOtp[h][j].append(XSoma[i,h])\n",
    "# X soma BO tp -> dictionarry of selected timepoints (in tpi) containing all the positions (coded as distance from soma) sepereaed into lists correspinding to Branch order ID ie 3 BO -> 3 lists each containing all the positions at that timepoint) "
   ]
  },
  {
   "cell_type": "code",
   "execution_count": 47,
   "metadata": {},
   "outputs": [],
   "source": [
    "# count mitos at each node (when there is more than 1 mito) for each timepoint in tpi\n",
    "countmitos_tpi_no0 = modout.count_mitos_no0(Xresult, tpi)"
   ]
  },
  {
   "cell_type": "code",
   "execution_count": 48,
   "metadata": {},
   "outputs": [],
   "source": [
    "# count mitos at each node for each timepoint in tpi\n",
    "countmitos_tpi = modout.count_mitos(Xresult,  N, numtimesteps_post, tpi) #count mitochondria at each node\n"
   ]
  },
  {
   "cell_type": "code",
   "execution_count": 49,
   "metadata": {},
   "outputs": [],
   "source": [
    "def bin_tree_graph_density(countermitos, arrtps, seg, currentdist, newdist):\n",
    "    \n",
    "    resample = int(newdist/currentdist) # number of nodes to be 'lumped' together\n",
    "    newdict = {}\n",
    "\n",
    "    for index in arrtps:\n",
    "        newdict[index] = {}\n",
    "        #newdict[index][0] = countermitos[index][0]\n",
    "\n",
    "        for i in range(len(seg)): # for each segment \n",
    "            if any(countermitos[index][key] != 0 for key in range(seg[i][0]+1, seg[i][1])): # if there are any mitochondria in that segment \n",
    "                num1ind = seg[i][0]    #seg[i][0] + 1\n",
    "                num2ind = seg[i][0] + resample -1 #seg[i][0] + resample \n",
    "\n",
    "                while num2ind <= seg[i][1]:\n",
    "                    summ = 0\n",
    "\n",
    "                    for m, value in countermitos[index].items():\n",
    "                        if m >= num1ind and m <= num2ind:\n",
    "                            summ += value\n",
    "                    \n",
    "                    central_position = (num1ind + num2ind) // 2\n",
    "                    newdict[index][central_position] = summ\n",
    "                    \n",
    "                    num1ind += resample \n",
    "                    num2ind += resample\n",
    "                \n",
    "\n",
    "            else: # else fill segment's binned count with 0 \n",
    "                num1ind = seg[i][0] \n",
    "                num2ind = seg[i][0] + resample -1\n",
    "\n",
    "                while num2ind <= seg[i][1]:\n",
    "                    central_position = (num1ind + num2ind) // 2\n",
    "                    newdict[index][central_position] = 0  \n",
    "                    \n",
    "                    num1ind += resample \n",
    "                    num2ind += resample\n",
    "\n",
    "    return newdict"
   ]
  },
  {
   "cell_type": "code",
   "execution_count": 50,
   "metadata": {},
   "outputs": [],
   "source": [
    "numbermitos_binned_tpi = bin_tree_graph_density(countmitos_tpi, tpi, segments_list, 0.2, 66)"
   ]
  },
  {
   "cell_type": "code",
   "execution_count": 51,
   "metadata": {},
   "outputs": [],
   "source": [
    "numbermitos_binned_tpi_no0 = modout.nested_dict_no0(numbermitos_binned_tpi)"
   ]
  },
  {
   "cell_type": "code",
   "execution_count": 52,
   "metadata": {},
   "outputs": [],
   "source": [
    "lat_endpoints = modout.latency_endpoint(Xresult, EP)\n",
    "lat_endpoints_hours = lat_endpoints*snapshot_num/3600"
   ]
  },
  {
   "cell_type": "code",
   "execution_count": 53,
   "metadata": {},
   "outputs": [],
   "source": [
    "tarray_seconds = np.arange(0,numtimesteps_post,1)*snapshot_num # if already chanegd numtimesteps\n",
    "tarray = tarray_seconds/3600 # hours\n",
    "tarray_days = tarray/24\n"
   ]
  },
  {
   "cell_type": "markdown",
   "metadata": {},
   "source": [
    "## Figures"
   ]
  },
  {
   "cell_type": "code",
   "execution_count": 54,
   "metadata": {},
   "outputs": [],
   "source": [
    "plt.rcParams['legend.title_fontsize'] = 'xx-small'\n",
    "cm = 1/2.54"
   ]
  },
  {
   "cell_type": "markdown",
   "metadata": {},
   "source": [
    "## Occupancy of BOs"
   ]
  },
  {
   "cell_type": "code",
   "execution_count": 55,
   "metadata": {
    "scrolled": true
   },
   "outputs": [
    {
     "data": {
      "image/png": "[encoded data removed]",
      "text/plain": [
       "<Figure size 198.425x141.732 with 1 Axes>"
      ]
     },
     "metadata": {
      "needs_background": "light"
     },
     "output_type": "display_data"
    }
   ],
   "source": [
    "# Percentage occuprancy of each branch order(normalised)\n",
    "fig, ax = plt.subplots()\n",
    "fig.set_size_inches(7*cm, 5*cm)\n",
    "\n",
    "ax.plot(tarray,BOnumbermitos_array)\n",
    "ax.set_xlabel(\"Time (hours)\")\n",
    "ax.set_ylabel(\"Number of mitochondria\")\n",
    "fig.legend(('1','2','3'), title='branch order', loc=7, bbox_to_anchor=(1.00, 0.48), prop={'size': 9})\n",
    "ax.minorticks_on()\n",
    "\n",
    "ax.set_title('Branch order occupancy')\n",
    "\n",
    "modplot.set_axes_properties(ax)"
   ]
  },
  {
   "cell_type": "markdown",
   "metadata": {},
   "source": [
    "### Number of mitochondria at endpoints"
   ]
  },
  {
   "cell_type": "code",
   "execution_count": 56,
   "metadata": {},
   "outputs": [
    {
     "data": {
      "image/png": "[encoded data removed]",
      "text/plain": [
       "<Figure size 198.425x141.732 with 1 Axes>"
      ]
     },
     "metadata": {
      "needs_background": "light"
     },
     "output_type": "display_data"
    }
   ],
   "source": [
    "# Number of mitohcondria at the the 4 endpoints combined - stretch opf 5um\n",
    "fig, ax = plt.subplots()\n",
    "fig.set_size_inches(7*cm, 5*cm)\n",
    "\n",
    "ax.plot(tarray,numbermitosEP_5um)\n",
    "ax.set_xlabel(\"Time (hours)\")\n",
    "ax.set_ylabel(\"Number of mitochondria\") # all endpoints combine\n",
    "ax.set_ylim(0,runs)\n",
    "ax.minorticks_on()\n",
    "ax.tick_params(axis='y', which='minor', bottom=False)\n",
    "\n",
    "ax.set_title('Mitochondria at endpoints (5um)') \n",
    "\n",
    "modplot.set_axes_properties(ax)\n"
   ]
  },
  {
   "cell_type": "code",
   "execution_count": 57,
   "metadata": {},
   "outputs": [
    {
     "data": {
      "image/png": "[encoded data removed]",
      "text/plain": [
       "<Figure size 198.425x141.732 with 1 Axes>"
      ]
     },
     "metadata": {
      "needs_background": "light"
     },
     "output_type": "display_data"
    }
   ],
   "source": [
    "# Number of mitohcondria at the the 4 endpoints combined \n",
    "fig, ax = plt.subplots()\n",
    "fig.set_size_inches(7*cm, 5*cm)\n",
    "\n",
    "line, = ax.plot(tarray,numbermitosEP, label = 'at sepecified time')\n",
    "hist, bns, patches = ax.hist(lat_endpoints_hours, 4000, density=False, histtype='step',\n",
    "                           cumulative=True, color = 'grey', label='cumulative')\n",
    "ax.set_xlabel(\"Time (hours)\")\n",
    "ax.set_ylabel(\"Number of mitochondria\") # all endpoints combine\n",
    "ax.set_ylim(0,runs)\n",
    "ax.minorticks_on()\n",
    "ax.tick_params(axis='y', which='minor', bottom=False)\n",
    "ax.set_title('Mitochondria at endpoints')\n",
    "\n",
    "\n",
    "handles = [line, plt.Line2D([0], [0], color='grey', linestyle='-')]\n",
    "labels = ['at time', 'cumulative']\n",
    "ax.legend(handles, labels,loc=4, bbox_to_anchor=(0.58, 0.67), prop={'size': 9})\n",
    "\n",
    "\n",
    "modplot.set_axes_properties(ax)"
   ]
  },
  {
   "cell_type": "markdown",
   "metadata": {},
   "source": [
    "### Histogams number mitos vs distance"
   ]
  },
  {
   "cell_type": "code",
   "execution_count": 58,
   "metadata": {},
   "outputs": [
    {
     "data": {
      "image/png": "[encoded data removed]",
      "text/plain": [
       "<Figure size 467.717x226.772 with 3 Axes>"
      ]
     },
     "metadata": {
      "needs_background": "light"
     },
     "output_type": "display_data"
    }
   ],
   "source": [
    "bins = np.arange(0, 10200, 200)\n",
    "\n",
    "\n",
    "xmin = np.trunc(min(distfromsoma.values()))\n",
    "xmax = int(max(distfromsoma.values()))\n",
    "ymax = runs\n",
    "\n",
    "fig, (ax1, ax2, ax3) = plt.subplots(1, 3, figsize=(16.5*cm,8*cm))\n",
    "\n",
    "fig.subplots_adjust(wspace=0.05) # reduce spacing between subplots\n",
    "hist1, bns1, _ = ax1.hist(XSoma[:,tpi[0]], bins= bins)\n",
    "hist2, bns2, _ = ax2.hist(XSoma[:,tpi[1]], bins= bins)\n",
    "hist3, bns3, _ = ax3.hist(XSoma[:,tpi[2]], bins= bins)\n",
    "\n",
    "\n",
    "for i in (ax1,ax2,ax3):\n",
    "    i.set_xlabel(\"Distance from soma (µm)\")\n",
    "    i.set_xlim(-200, xmax+200)\n",
    "    #i.set_ylim(0, ymax+50)\n",
    "    i.set_ylim((10**-0.3,12**3) )\n",
    "    i.minorticks_on()\n",
    "\n",
    "\n",
    "    \n",
    "ax1.set_ylabel(\"Number of mitochondria\")\n",
    "ax2.set(ylabel = None)\n",
    "ax3.set(ylabel = None)\n",
    "ax2.tick_params(axis='y',labelleft=False)\n",
    "ax3.tick_params(axis='y',labelleft=False)\n",
    "\n",
    "ax1.set(xlabel = None)\n",
    "ax3.set(xlabel = None)\n",
    "    \n",
    "\n",
    "#ax1.set_title('t = 1 minute', fontsize = 15.0,  pad=20)\n",
    "#ax2.set_title('t = 24 hours', fontsize = 15.0,  pad=20)\n",
    "#ax3.set_title('t = 48 hours', fontsize = 15.0,  pad=20)\n",
    "\n",
    "ax1.set_yscale('log')\n",
    "ax2.set_yscale('log')\n",
    "ax3.set_yscale('log')\n",
    "\n",
    "ax1.set_title('5 hours')\n",
    "ax2.set_title('240 hours')\n",
    "ax3.set_title('480 hours')\n",
    "\n",
    "modplot.set_axes_properties(ax1)\n",
    "modplot.set_axes_properties(ax2)\n",
    "modplot.set_axes_properties(ax3)\n",
    "\n",
    "fig.tight_layout()\n"
   ]
  },
  {
   "cell_type": "markdown",
   "metadata": {},
   "source": [
    "### Axon backbone distribution"
   ]
  },
  {
   "cell_type": "code",
   "execution_count": 59,
   "metadata": {},
   "outputs": [],
   "source": [
    "simple_G = simplifyGraph(Axon._G)\n",
    "\n",
    "simple_xy = {}\n",
    "for i in simple_G.nodes():\n",
    "    simple_xy[i] = np.array(xycoordinates[i])\n"
   ]
  },
  {
   "cell_type": "code",
   "execution_count": 60,
   "metadata": {},
   "outputs": [
    {
     "data": {
      "image/png": "[encoded data removed]",
      "text/plain": [
       "<Figure size 439.37x226.772 with 4 Axes>"
      ]
     },
     "metadata": {},
     "output_type": "display_data"
    }
   ],
   "source": [
    "fig, (ax1, ax2, ax3) = plt.subplots(1, 3, figsize=(15.5*cm,8*cm))\n",
    "\n",
    "plt.subplots_adjust(wspace=0.1)\n",
    "\n",
    "'''\n",
    "low =  min(min(numbermitos_binned_tpi[tpi[0]].values()),min(numbermitos_binned_tpi_no0[tpi[1]].values()),min(numbermitos_binned_tpi_no0[tpi[2]].values()))\n",
    "high = max(max(numbermitos_binned_tpi_no0[tpi[0]].values()),max(numbermitos_binned_tpi_no0[tpi[1]].values()),max(numbermitos_binned_tpi_no0[tpi[2]].values()))\n",
    "norm = mpl.colors.Normalize(vmin=low, vmax=high, clip=True)\n",
    "mapper = mpl.cm.ScalarMappable(norm=norm, cmap=mpl.cm.autumn_r)\n",
    "'''\n",
    "\n",
    "low =  0\n",
    "high = max(max(numbermitos_binned_tpi_no0[tpi[0]].values()),max(numbermitos_binned_tpi_no0[tpi[1]].values()),max(numbermitos_binned_tpi_no0[tpi[2]].values()))\n",
    "norm = mpl.colors.Normalize(vmin=low, vmax=high, clip=True)\n",
    "mapper = mpl.cm.ScalarMappable(norm=norm, cmap=mpl.cm.viridis_r)\n",
    "\n",
    "\n",
    "ax1.scatter([xycoordinates[j][0] for j in numbermitos_binned_tpi_no0[tpi[0]]], [xycoordinates[j][1] for j in numbermitos_binned_tpi_no0[tpi[0]]],  s=10, marker='_', c = [mapper.to_rgba(i) for i in numbermitos_binned_tpi_no0[tpi[0]].values()])\n",
    "ax2.scatter([xycoordinates[j][0] for j in numbermitos_binned_tpi_no0[tpi[1]]], [xycoordinates[j][1] for j in numbermitos_binned_tpi_no0[tpi[1]]],  s=10, marker='_', c = [mapper.to_rgba(i) for i in numbermitos_binned_tpi_no0[tpi[1]].values()])\n",
    "ax3.scatter([xycoordinates[j][0] for j in numbermitos_binned_tpi_no0[tpi[2]]], [xycoordinates[j][1] for j in numbermitos_binned_tpi_no0[tpi[2]]], s=10, marker='_', c = [mapper.to_rgba(i) for i in numbermitos_binned_tpi_no0[tpi[2]].values()])\n",
    "\n",
    "\n",
    "for axis in (ax1,ax2,ax3):\n",
    "    nx.draw(simple_G, pos=simple_xy, node_size=0.001, node_color=\"grey\", edge_color=\"grey\", width=1, arrows=None, ax=axis)\n",
    "\n",
    "ax1.set_title('5 hours')\n",
    "ax2.set_title('240 hours')\n",
    "ax3.set_title('480 hours')\n",
    "\n",
    "\n",
    "cbar = fig.colorbar(mapper, ax = (ax1, ax2, ax3),orientation='horizontal', aspect=40)\n",
    "cbar.ax.tick_params(labelsize=10, size=5)  \n",
    "cbar.ax.set_title('Number of mitochondria', fontsize=11)\n",
    "\n",
    "\n",
    "modplot.set_axes_properties(ax1)\n",
    "modplot.set_axes_properties(ax2)\n",
    "modplot.set_axes_properties(ax3)\n",
    "\n",
    "fig.tight_layout()\n",
    "\n"
   ]
  },
  {
   "cell_type": "markdown",
   "metadata": {},
   "source": [
    "### Run time to reach end once moving "
   ]
  },
  {
   "cell_type": "code",
   "execution_count": 61,
   "metadata": {},
   "outputs": [
    {
     "data": {
      "image/png": "[encoded data removed]",
      "text/plain": [
       "<Figure size 198.425x141.732 with 1 Axes>"
      ]
     },
     "metadata": {
      "needs_background": "light"
     },
     "output_type": "display_data"
    }
   ],
   "source": [
    "#log scale \n",
    "bins = np.arange(0,494,24)\n",
    "\n",
    "fig, ax = plt.subplots()\n",
    "fig.set_size_inches(7*cm, 5*cm)\n",
    "\n",
    "ax.hist(runtimesresults,bins)\n",
    "ax.set_yscale('log')\n",
    "ax.set_ylim((10**-0.3,12**3) )\n",
    "\n",
    "ax.set_xlabel(\"Time (hours)\")\n",
    "ax.set_ylabel(\"Number of mitochondria\")\n",
    "ax.set_title(\"Latency to endpoints after first move\")\n",
    "ax.minorticks_on()\n",
    "\n",
    "\n",
    "modplot.set_axes_properties(ax)\n"
   ]
  },
  {
   "cell_type": "code",
   "execution_count": 62,
   "metadata": {},
   "outputs": [
    {
     "data": {
      "image/png": "[encoded data removed]",
      "text/plain": [
       "<Figure size 198.425x141.732 with 1 Axes>"
      ]
     },
     "metadata": {
      "needs_background": "light"
     },
     "output_type": "display_data"
    }
   ],
   "source": [
    "#normal scale\n",
    "bins = np.arange(0,494,24)\n",
    "\n",
    "fig, ax = plt.subplots()\n",
    "fig.set_size_inches(7*cm, 5*cm)\n",
    "\n",
    "hist, bns , _ = ax.hist(runtimesresults,bins)\n",
    "\n",
    "ax.set_xlabel(\"Time (hours)\")\n",
    "ax.set_ylabel(\"Number of mitochondria\")\n",
    "ax.set_title(\"Latency to endpoints after first move\")\n",
    "ax.minorticks_on()\n",
    "#ax.set_ylim((0,280) )\n",
    "\n",
    "\n",
    "\n",
    "modplot.set_axes_properties(ax)\n"
   ]
  },
  {
   "cell_type": "markdown",
   "metadata": {},
   "source": [
    "### Degradation posthoc"
   ]
  },
  {
   "cell_type": "code",
   "execution_count": null,
   "metadata": {},
   "outputs": [],
   "source": [
    "#Number of mitochondira at endpoints specifically \n",
    "numbermitosEPDeg10 = modout.count_mitos_spec(numtimesteps_post, N, XresultDeg10, pos_list=EP, dist_dict=None, interval=None) # specific endpoints\n",
    "numbermitosEPDeg120 = modout.count_mitos_spec(numtimesteps_post, N, XresultDeg120, pos_list=EP, dist_dict=None, interval=None) # specific endpoints\n",
    "numbermitosEPDeg240 = modout.count_mitos_spec(numtimesteps_post, N, XresultDeg240, pos_list=EP, dist_dict=None, interval=None) # specific endpoints\n",
    "numbermitosEPDeg360 = modout.count_mitos_spec(numtimesteps_post, N, XresultDeg360, pos_list=EP, dist_dict=None, interval=None) # specific endpoints\n",
    "numbermitosEPDeg480 = modout.count_mitos_spec(numtimesteps_post, N, XresultDeg480, pos_list=EP, dist_dict=None, interval=None) # specific endpoints\n",
    "numbermitosEPDeg600 = modout.count_mitos_spec(numtimesteps_post, N, XresultDeg600, pos_list=EP, dist_dict=None, interval=None) # specific endpoints\n",
    "numbermitosEPDeg720 = modout.count_mitos_spec(numtimesteps_post, N, XresultDeg720, pos_list=EP, dist_dict=None, interval=None) # specific endpoints\n",
    "numbermitosEPDeg840 = modout.count_mitos_spec(numtimesteps_post, N, XresultDeg840, pos_list=EP, dist_dict=None, interval=None) # specific endpoints\n",
    "numbermitosEPDeg960 = modout.count_mitos_spec(numtimesteps_post, N, XresultDeg960, pos_list=EP, dist_dict=None, interval=None) # specific endpoints"
   ]
  },
  {
   "cell_type": "code",
   "execution_count": null,
   "metadata": {},
   "outputs": [],
   "source": [
    "#Numebr of mitochondria ay 5um stretch of endpoints \n",
    "\n",
    "node_EP_range = int(5/internode) #number of nodes to make 5um \n",
    "\n",
    "EP_5um_nested = []\n",
    "for i in EP:\n",
    "    EP_5um_nested.append(list(i - np.array(range(node_EP_range))))\n",
    "\n",
    "EP_5um = [item for sublist in EP_5um_nested for item in sublist] # flatten list\n",
    "\n",
    "numbermitosEPDeg10_5um = modout.count_mitos_spec(numtimesteps_post, N, XresultDeg10, pos_list=EP_5um, dist_dict=None, interval=None) \n",
    "numbermitosEPDeg120_5um = modout.count_mitos_spec(numtimesteps_post, N, XresultDeg120, pos_list=EP_5um, dist_dict=None, interval=None) \n",
    "numbermitosEPDeg240_5um = modout.count_mitos_spec(numtimesteps_post, N, XresultDeg240, pos_list=EP_5um, dist_dict=None, interval=None) \n",
    "numbermitosEPDeg360_5um = modout.count_mitos_spec(numtimesteps_post, N, XresultDeg360, pos_list=EP_5um, dist_dict=None, interval=None) \n",
    "numbermitosEPDeg480_5um = modout.count_mitos_spec(numtimesteps_post, N, XresultDeg480, pos_list=EP_5um, dist_dict=None, interval=None) \n",
    "numbermitosEPDeg600_5um = modout.count_mitos_spec(numtimesteps_post, N, XresultDeg600, pos_list=EP_5um, dist_dict=None, interval=None) \n",
    "numbermitosEPDeg720_5um = modout.count_mitos_spec(numtimesteps_post, N, XresultDeg720, pos_list=EP_5um, dist_dict=None, interval=None)\n",
    "numbermitosEPDeg840_5um = modout.count_mitos_spec(numtimesteps_post, N, XresultDeg840, pos_list=EP_5um, dist_dict=None, interval=None)\n",
    "numbermitosEPDeg960_5um = modout.count_mitos_spec(numtimesteps_post, N, XresultDeg960, pos_list=EP_5um, dist_dict=None, interval=None)\n"
   ]
  },
  {
   "cell_type": "code",
   "execution_count": null,
   "metadata": {},
   "outputs": [],
   "source": [
    "# Number of mitohcondria at the the 4 endpoints combined - stretch opf 5um\n",
    "fig, ax = plt.subplots()\n",
    "fig.set_size_inches(7*cm, 5*cm)\n",
    "\n",
    "ax.plot(tarray,numbermitosEP_5um)\n",
    "ax.plot(tarray,numbermitosEPDeg960_5um)\n",
    "ax.plot(tarray,numbermitosEPDeg840_5um)\n",
    "ax.plot(tarray,numbermitosEPDeg720_5um)\n",
    "ax.plot(tarray,numbermitosEPDeg600_5um)\n",
    "ax.plot(tarray,numbermitosEPDeg480_5um)\n",
    "ax.plot(tarray,numbermitosEPDeg360_5um)\n",
    "ax.plot(tarray,numbermitosEPDeg240_5um)\n",
    "ax.plot(tarray,numbermitosEPDeg120_5um)\n",
    "ax.plot(tarray,numbermitosEPDeg10_5um)\n",
    "\n",
    "\n",
    "ax.set_xlabel(\"Time (hours)\")\n",
    "ax.set_ylabel(\"Number of mitochondria\") # all endpoints combine\n",
    "ax.set_ylim(0,runs)\n",
    "ax.minorticks_on()\n",
    "ax.tick_params(axis='y', which='minor', bottom=False)\n",
    "\n",
    "ax.set_title('Mitochondria at endpoints (5um)') \n",
    "\n",
    "ax.legend(('None','960','840','720', '600', '480', '360', '240', '120', '10'), title='Degradation mean (h)', bbox_to_anchor=(1.15, 1.25),prop={'size': 9})#, bbox_to_anchor=(0.9, 0.5))\n",
    "\n",
    "\n",
    "modplot.set_axes_properties(ax)\n",
    "plt.tick_params(bottom = False) \n",
    "\n"
   ]
  },
  {
   "cell_type": "code",
   "execution_count": null,
   "metadata": {},
   "outputs": [],
   "source": [
    "## FOR POSITIONAL DISTOGRAMS \n",
    "XSoma = modout.convert_vector(Xresult,distfromsoma, numtimesteps_post, runs) # chnage X position node id to distqnce from soma at each timepoint \n",
    "XSomaDeg960 = modout.convert_vector(XresultDeg960,distfromsoma, numtimesteps_post, runs) # chnage X position node id to distqnce from soma at each timepoint \n",
    "XSomaDeg840 = modout.convert_vector(XresultDeg840,distfromsoma, numtimesteps_post, runs) # chnage X position node id to distqnce from soma at each timepoint \n",
    "XSomaDeg720 = modout.convert_vector(XresultDeg720,distfromsoma, numtimesteps_post, runs) # chnage X position node id to distqnce from soma at each timepoint \n",
    "XSomaDeg600 = modout.convert_vector(XresultDeg600,distfromsoma, numtimesteps_post, runs) # chnage X position node id to distqnce from soma at each timepoint \n",
    "XSomaDeg480 = modout.convert_vector(XresultDeg480,distfromsoma, numtimesteps_post, runs) # chnage X position node id to distqnce from soma at each timepoint \n",
    "XSomaDeg360 = modout.convert_vector(XresultDeg360,distfromsoma, numtimesteps_post, runs) # chnage X position node id to distqnce from soma at each timepoint \n",
    "XSomaDeg240 = modout.convert_vector(XresultDeg240,distfromsoma, numtimesteps_post, runs) # chnage X position node id to distqnce from soma at each timepoint \n",
    "XSomaDeg120 = modout.convert_vector(XresultDeg120,distfromsoma, numtimesteps_post, runs) # chnage X position node id to distqnce from soma at each timepoint \n",
    "XSomaDeg10 = modout.convert_vector(XresultDeg10,distfromsoma, numtimesteps_post, runs) # chnage X position node id to distqnce from soma at each timepoint "
   ]
  },
  {
   "cell_type": "code",
   "execution_count": null,
   "metadata": {},
   "outputs": [],
   "source": [
    "##FOR TREES\n",
    "countmitos_none_last = modout.count_mitos(Xresult,  N, numtimesteps_post, [numtimesteps_post-1])\n",
    "countmitos_960_last = modout.count_mitos(XresultDeg960,  N, numtimesteps_post, [numtimesteps_post-1])\n",
    "countmitos_480_last = modout.count_mitos(XresultDeg480,  N, numtimesteps_post, [numtimesteps_post-1])\n",
    "countmitos_120_last = modout.count_mitos(XresultDeg120,  N, numtimesteps_post, [numtimesteps_post-1])\n",
    "countmitos_10_last = modout.count_mitos(XresultDeg10,  N, numtimesteps_post, [numtimesteps_post-1])\n",
    "\n",
    "\n",
    "numbermitos_none_last_binned = bin_tree_graph_density_3(countmitos_none_last, [numtimesteps_post-1], segments_list, 0.2, 1)\n",
    "numbermitos_960_last_binned = bin_tree_graph_density_3(countmitos_960_last, [numtimesteps_post-1], segments_list, 0.2, 1)\n",
    "numbermitos_480_last_binned = bin_tree_graph_density_3(countmitos_480_last, [numtimesteps_post-1], segments_list, 0.2, 1)\n",
    "numbermitos_120_last_binned = bin_tree_graph_density_3(countmitos_120_last, [numtimesteps_post-1], segments_list, 0.2, 1)\n",
    "numbermitos_10_last_binned = bin_tree_graph_density_3(countmitos_10_last, [numtimesteps_post-1], segments_list, 0.2, 1)\n",
    "\n",
    "numbermitos_none_last_binned_no0 = modout.nested_dict_no0(numbermitos_none_last_binned)\n",
    "numbermitos_960_last_binned_no0 = modout.nested_dict_no0(numbermitos_960_last_binned)\n",
    "numbermitos_480_last_binned_no0 = modout.nested_dict_no0(numbermitos_480_last_binned)\n",
    "numbermitos_120_last_binned_no0 = modout.nested_dict_no0(numbermitos_120_last_binned)\n",
    "numbermitos_10_last_binned_no0 = modout.nested_dict_no0(numbermitos_10_last_binned)\n",
    "\n"
   ]
  },
  {
   "cell_type": "code",
   "execution_count": null,
   "metadata": {},
   "outputs": [],
   "source": [
    "bins = np.arange(-1, 10200, 200)\n",
    "\n",
    "xmin = np.trunc(min(distfromsoma.values()))\n",
    "xmax = int(max(distfromsoma.values()))\n",
    "ymax = runs\n",
    "\n",
    "fig, (axs) = plt.subplots(nrows=2, ncols=3, figsize=(16.5*cm,15.2*cm))\n",
    "\n",
    "\n",
    "ax1 = axs[0, 0]\n",
    "ax2 = axs[0, 1]\n",
    "ax3 = axs[0, 2]\n",
    "ax4 = axs[1, 0]\n",
    "ax5 = axs[1, 1]\n",
    "ax6 = axs[1, 2]\n",
    "\n",
    "ax1.hist(XSoma[:,numtimesteps_post-1], bins= bins)\n",
    "ax2.hist(XSomaDeg960[:,numtimesteps_post-1], bins= bins)\n",
    "ax3.hist(XSomaDeg480[:,numtimesteps_post-1], bins= bins)\n",
    "ax4.hist(XSomaDeg240[:,numtimesteps_post-1], bins= bins)\n",
    "ax5.hist(XSomaDeg120[:,numtimesteps_post-1], bins= bins)\n",
    "ax6.hist(XSomaDeg10[:,numtimesteps_post-1], bins= bins)\n",
    "\n",
    "\n",
    "for i in (ax1,ax2,ax3,ax4, ax5, ax6):\n",
    "    i.set_xlabel(\"Distance from soma (µm)\")\n",
    "    i.set_xlim(-200, xmax+200)\n",
    "    #i.set_ylim(0, ymax+50)\n",
    "    i.set_ylim((10**-0.3,12**3) )\n",
    "    i.minorticks_on()\n",
    "\n",
    "\n",
    "    \n",
    "ax1.set_ylabel(\"Number of mitochondria\")\n",
    "ax4.set_ylabel(\"Number of mitochondria\")\n",
    "\n",
    "ax2.set(ylabel = None)\n",
    "ax3.set(ylabel = None)\n",
    "ax5.set(ylabel = None)\n",
    "ax6.set(ylabel = None)\n",
    "\n",
    "ax2.tick_params(axis='y',labelleft=False)\n",
    "ax3.tick_params(axis='y',labelleft=False)\n",
    "ax5.tick_params(axis='y',labelleft=False)\n",
    "ax6.tick_params(axis='y',labelleft=False)\n",
    "\n",
    "ax1.set(xlabel = None)\n",
    "ax2.set(xlabel = None)\n",
    "ax3.set(xlabel = None)\n",
    "ax4.set(xlabel = None)\n",
    "ax6.set(xlabel = None)\n",
    "\n",
    "#ax1.set_title('t = 1 minute', fontsize = 15.0,  pad=20)\n",
    "#ax2.set_title('t = 24 hours', fontsize = 15.0,  pad=20)\n",
    "#ax3.set_title('t = 48 hours', fontsize = 15.0,  pad=20)\n",
    "\n",
    "for i in (ax1,ax2,ax3,ax4, ax5, ax6):\n",
    "    i.set_yscale('log')\n",
    "\n",
    "\n",
    "ax1.set_title('No degradation')\n",
    "ax2.set_title('Deg. mean = 960h')\n",
    "ax3.set_title('Deg. mean = 480h')\n",
    "ax4.set_title('Deg. mean = 240h')\n",
    "ax5.set_title('Deg. mean = 120h')\n",
    "ax6.set_title('Deg. mean = 10h')\n",
    "\n",
    "for i in (ax1,ax2,ax3,ax4, ax5, ax6):\n",
    "    modplot.set_axes_properties(i)\n",
    "\n",
    "fig.suptitle('Spatial distribution at last timepoint (480h)',fontsize=11)\n",
    "\n",
    "fig.tight_layout()\n"
   ]
  },
  {
   "cell_type": "markdown",
   "metadata": {},
   "source": [
    "## k variations post hoc "
   ]
  },
  {
   "cell_type": "code",
   "execution_count": null,
   "metadata": {},
   "outputs": [],
   "source": [
    "numbermitosEP_k03 = modout.count_mitos_spec(numtimesteps_post, N, Xresultk03, pos_list=EP, dist_dict=None, interval=None) # specific endpoints\n",
    "numbermitosEP_k10 = modout.count_mitos_spec(numtimesteps_post, N, Xresultk10, pos_list=EP, dist_dict=None, interval=None) # specific endpoints\n",
    "numbermitosEP_k20 = modout.count_mitos_spec(numtimesteps_post, N, Xresultk20, pos_list=EP, dist_dict=None, interval=None) # specific endpoints\n",
    "numbermitosEP_k30 = modout.count_mitos_spec(numtimesteps_post, N, Xresultk30, pos_list=EP, dist_dict=None, interval=None) # specific endpoints\n",
    "numbermitosEP_k40 = modout.count_mitos_spec(numtimesteps_post, N, Xresultk40, pos_list=EP, dist_dict=None, interval=None) # specific endpoints\n",
    "numbermitosEP_k50 = modout.count_mitos_spec(numtimesteps_post, N, Xresultk50, pos_list=EP, dist_dict=None, interval=None) # specific endpoints\n",
    "numbermitosEP_k60 = modout.count_mitos_spec(numtimesteps_post, N, Xresultk60, pos_list=EP, dist_dict=None, interval=None) # specific endpoints\n",
    "numbermitosEP_k70 = modout.count_mitos_spec(numtimesteps_post, N, Xresultk70, pos_list=EP, dist_dict=None, interval=None) # specific endpoints\n",
    "numbermitosEP_k80 = modout.count_mitos_spec(numtimesteps_post, N, Xresultk80, pos_list=EP, dist_dict=None, interval=None) # specific endpoints\n",
    "numbermitosEP_k90 = modout.count_mitos_spec(numtimesteps_post, N, Xresultk90, pos_list=EP, dist_dict=None, interval=None) # specific endpoints\n",
    "numbermitosEP_k97 = modout.count_mitos_spec(numtimesteps_post, N, Xresultk97, pos_list=EP, dist_dict=None, interval=None) # specific endpoints\n",
    "\n",
    "\n",
    "lat_endpoints_k03 = modout.latency_endpoint(Xresultk03, EP)\n",
    "lat_endpoints_hours_k03 = lat_endpoints_k03*snapshot_num/3600\n",
    "lat_endpoints_k10 = modout.latency_endpoint(Xresultk10, EP)\n",
    "lat_endpoints_hours_k10 = lat_endpoints_k10*snapshot_num/3600\n",
    "lat_endpoints_k20 = modout.latency_endpoint(Xresultk20, EP)\n",
    "lat_endpoints_hours_k20 = lat_endpoints_k20*snapshot_num/3600\n",
    "lat_endpoints_k30 = modout.latency_endpoint(Xresultk30, EP)\n",
    "lat_endpoints_hours_k30 = lat_endpoints_k30*snapshot_num/3600\n",
    "lat_endpoints_k40 = modout.latency_endpoint(Xresultk40, EP)\n",
    "lat_endpoints_hours_k40 = lat_endpoints_k40*snapshot_num/3600\n",
    "lat_endpoints_k50 = modout.latency_endpoint(Xresultk50, EP)\n",
    "lat_endpoints_hours_k50 = lat_endpoints_k50*snapshot_num/3600\n",
    "lat_endpoints_k60 = modout.latency_endpoint(Xresultk60, EP)\n",
    "lat_endpoints_hours_k60 = lat_endpoints_k60*snapshot_num/3600\n",
    "lat_endpoints_k70 = modout.latency_endpoint(Xresultk70, EP)\n",
    "lat_endpoints_hours_k70 = lat_endpoints_k70*snapshot_num/3600\n",
    "lat_endpoints_k80 = modout.latency_endpoint(Xresultk80, EP)\n",
    "lat_endpoints_hours_k80 = lat_endpoints_k80*snapshot_num/3600\n",
    "lat_endpoints_k90 = modout.latency_endpoint(Xresultk90, EP)\n",
    "lat_endpoints_hours_k90 = lat_endpoints_k90*snapshot_num/3600\n",
    "lat_endpoints_k97 = modout.latency_endpoint(Xresultk97, EP)\n",
    "lat_endpoints_hours_k97 = lat_endpoints_k97*snapshot_num/3600\n"
   ]
  },
  {
   "cell_type": "code",
   "execution_count": null,
   "metadata": {},
   "outputs": [],
   "source": [
    "node_EP_range = int(5/internode) #number of nodes to make 5um \n",
    "\n",
    "EP_5um_nested = []\n",
    "for i in EP:\n",
    "    EP_5um_nested.append(list(i - np.array(range(node_EP_range))))\n",
    "\n",
    "EP_5um = [item for sublist in EP_5um_nested for item in sublist] # flatten list\n",
    "\n",
    "numbermitosEP_5um_k03 = modout.count_mitos_spec(numtimesteps_post, N, Xresultk03, pos_list=EP_5um, dist_dict=None, interval=None)\n",
    "numbermitosEP_5um_k10 = modout.count_mitos_spec(numtimesteps_post, N, Xresultk10, pos_list=EP_5um, dist_dict=None, interval=None)\n",
    "numbermitosEP_5um_k20 = modout.count_mitos_spec(numtimesteps_post, N, Xresultk20, pos_list=EP_5um, dist_dict=None, interval=None)\n",
    "numbermitosEP_5um_k30 = modout.count_mitos_spec(numtimesteps_post, N, Xresultk30, pos_list=EP_5um, dist_dict=None, interval=None)\n",
    "numbermitosEP_5um_k40 = modout.count_mitos_spec(numtimesteps_post, N, Xresultk40, pos_list=EP_5um, dist_dict=None, interval=None)\n",
    "numbermitosEP_5um_k50 = modout.count_mitos_spec(numtimesteps_post, N, Xresultk50, pos_list=EP_5um, dist_dict=None, interval=None)\n",
    "numbermitosEP_5um_k60 = modout.count_mitos_spec(numtimesteps_post, N, Xresultk60, pos_list=EP_5um, dist_dict=None, interval=None)\n",
    "numbermitosEP_5um_k70 = modout.count_mitos_spec(numtimesteps_post, N, Xresultk70, pos_list=EP_5um, dist_dict=None, interval=None)\n",
    "numbermitosEP_5um_k80 = modout.count_mitos_spec(numtimesteps_post, N, Xresultk80, pos_list=EP_5um, dist_dict=None, interval=None)\n",
    "numbermitosEP_5um_k90 = modout.count_mitos_spec(numtimesteps_post, N, Xresultk90, pos_list=EP_5um, dist_dict=None, interval=None)\n",
    "numbermitosEP_5um_k97 = modout.count_mitos_spec(numtimesteps_post, N, Xresultk97, pos_list=EP_5um, dist_dict=None, interval=None)\n",
    "\n",
    "\n"
   ]
  },
  {
   "cell_type": "code",
   "execution_count": null,
   "metadata": {},
   "outputs": [],
   "source": [
    "karray = [0.03, 0.10, 0.20, 0.30, 0.40, 0.50, 0.60, 0.70, 0.80, 0.90, 0.97]\n",
    "numbermitosEP_5um_lasttp_ks = [numbermitosEP_5um_k03[numtimesteps_post-1], numbermitosEP_5um_k10[numtimesteps_post-1],numbermitosEP_5um_k20[numtimesteps_post-1],\n",
    "                              numbermitosEP_5um_k30[numtimesteps_post-1],numbermitosEP_5um_k40[numtimesteps_post-1], numbermitosEP_5um_k50[numtimesteps_post-1],\n",
    "                              numbermitosEP_5um_k60[numtimesteps_post-1],numbermitosEP_5um_k70[numtimesteps_post-1], numbermitosEP_5um_k80[numtimesteps_post-1],\n",
    "                              numbermitosEP_5um_k90[numtimesteps_post-1], numbermitosEP_5um_k97[numtimesteps_post-1]]\n",
    "\n",
    "numbermitosEP_5um_midtp_ks = [numbermitosEP_5um_k03[numtimesteps_post//2], numbermitosEP_5um_k10[numtimesteps_post//2],numbermitosEP_5um_k20[numtimesteps_post//2],\n",
    "                              numbermitosEP_5um_k30[numtimesteps_post//2],numbermitosEP_5um_k40[numtimesteps_post//2], numbermitosEP_5um_k50[numtimesteps_post//2],\n",
    "                              numbermitosEP_5um_k60[numtimesteps_post//2],numbermitosEP_5um_k70[numtimesteps_post//2], numbermitosEP_5um_k80[numtimesteps_post//2],\n",
    "                              numbermitosEP_5um_k90[numtimesteps_post//2], numbermitosEP_5um_k97[numtimesteps_post//2]]\n",
    "\n",
    "numbermitosEP_5um_quarttp_ks = [numbermitosEP_5um_k03[numtimesteps_post//4], numbermitosEP_5um_k10[numtimesteps_post//4],numbermitosEP_5um_k20[numtimesteps_post//4],\n",
    "                              numbermitosEP_5um_k30[numtimesteps_post//4],numbermitosEP_5um_k40[numtimesteps_post//4], numbermitosEP_5um_k50[numtimesteps_post//4],\n",
    "                              numbermitosEP_5um_k60[numtimesteps_post//4],numbermitosEP_5um_k70[numtimesteps_post//4], numbermitosEP_5um_k80[numtimesteps_post//4],\n",
    "                              numbermitosEP_5um_k90[numtimesteps_post//4], numbermitosEP_5um_k97[numtimesteps_post//4]]\n",
    "\n",
    "numbermitosEP_5um_uquarttp_ks = [numbermitosEP_5um_k03[int(numtimesteps_post//1.25)], numbermitosEP_5um_k10[int(numtimesteps_post//1.25)],numbermitosEP_5um_k20[int(numtimesteps_post//1.25)],\n",
    "                              numbermitosEP_5um_k30[int(numtimesteps_post//1.25)],numbermitosEP_5um_k40[int(numtimesteps_post//1.25)], numbermitosEP_5um_k50[int(numtimesteps_post//1.25)],\n",
    "                              numbermitosEP_5um_k60[int(numtimesteps_post//1.25)],numbermitosEP_5um_k70[int(numtimesteps_post//1.25)], numbermitosEP_5um_k80[int(numtimesteps_post//1.25)],\n",
    "                              numbermitosEP_5um_k90[int(numtimesteps_post//1.25)], numbermitosEP_5um_k97[int(numtimesteps_post//1.25)]]"
   ]
  },
  {
   "cell_type": "code",
   "execution_count": null,
   "metadata": {},
   "outputs": [],
   "source": [
    "runtimesresults_k03 = (runtimes(Xresultk03))*snapshot_num/3600\n",
    "runtimesresults_k10 = (runtimes(Xresultk10))*snapshot_num/3600\n",
    "runtimesresults_k20 = (runtimes(Xresultk20))*snapshot_num/3600\n",
    "runtimesresults_k30 = (runtimes(Xresultk30))*snapshot_num/3600\n",
    "runtimesresults_k40 = (runtimes(Xresultk40))*snapshot_num/3600\n",
    "runtimesresults_k50 = (runtimes(Xresultk50))*snapshot_num/3600\n",
    "runtimesresults_k60 = (runtimes(Xresultk60))*snapshot_num/3600\n",
    "runtimesresults_k70 = (runtimes(Xresultk70))*snapshot_num/3600\n",
    "runtimesresults_k80 = (runtimes(Xresultk80))*snapshot_num/3600\n",
    "runtimesresults_k90 = (runtimes(Xresultk90))*snapshot_num/3600\n",
    "runtimesresults_k97 = (runtimes(Xresultk97))*snapshot_num/3600\n",
    "\n"
   ]
  },
  {
   "cell_type": "code",
   "execution_count": null,
   "metadata": {},
   "outputs": [],
   "source": [
    "XSoma_k03 = modout.convert_vector(Xresultk03,distfromsoma, numtimesteps_post, runs) # chnage X position node id to distqnce from soma at each timepoint \n",
    "XSoma_k10 = modout.convert_vector(Xresultk10,distfromsoma, numtimesteps_post, runs) # chnage X position node id to distqnce from soma at each timepoint \n",
    "XSoma_k20 = modout.convert_vector(Xresultk20,distfromsoma, numtimesteps_post, runs) # chnage X position node id to distqnce from soma at each timepoint \n",
    "XSoma_k30 = modout.convert_vector(Xresultk30,distfromsoma, numtimesteps_post, runs) # chnage X position node id to distqnce from soma at each timepoint \n",
    "XSoma_k40 = modout.convert_vector(Xresultk40,distfromsoma, numtimesteps_post, runs) # chnage X position node id to distqnce from soma at each timepoint \n",
    "XSoma_k50 = modout.convert_vector(Xresultk50,distfromsoma, numtimesteps_post, runs) # chnage X position node id to distqnce from soma at each timepoint \n",
    "XSoma_k60 = modout.convert_vector(Xresultk60,distfromsoma, numtimesteps_post, runs) # chnage X position node id to distqnce from soma at each timepoint \n",
    "XSoma_k70 = modout.convert_vector(Xresultk70,distfromsoma, numtimesteps_post, runs) # chnage X position node id to distqnce from soma at each timepoint \n",
    "XSoma_k80 = modout.convert_vector(Xresultk80,distfromsoma, numtimesteps_post, runs) # chnage X position node id to distqnce from soma at each timepoint \n",
    "XSoma_k90 = modout.convert_vector(Xresultk90,distfromsoma, numtimesteps_post, runs) # chnage X position node id to distqnce from soma at each timepoint \n",
    "XSoma_k97 = modout.convert_vector(Xresultk97,distfromsoma, numtimesteps_post, runs) # chnage X position node id to distqnce from soma at each timepoint \n"
   ]
  },
  {
   "cell_type": "code",
   "execution_count": null,
   "metadata": {},
   "outputs": [],
   "source": [
    "# Furthest distance reached by mitos \n",
    "furthest_k03 = np.empty(len(XSoma_k03))\n",
    "furthest_k10 = np.empty(len(XSoma_k10))\n",
    "furthest_k20 = np.empty(len(XSoma_k20))\n",
    "furthest_k30 = np.empty(len(XSoma_k30))\n",
    "furthest_k40 = np.empty(len(XSoma_k40))\n",
    "furthest_k50 = np.empty(len(XSoma_k50))\n",
    "furthest_k60 = np.empty(len(XSoma_k60))\n",
    "furthest_k70 = np.empty(len(XSoma_k70))\n",
    "furthest_k80 = np.empty(len(XSoma_k80))\n",
    "furthest_k90 = np.empty(len(XSoma_k90))\n",
    "furthest_k97 = np.empty(len(XSoma_k97))\n",
    "\n",
    "\n",
    "for r in range(len(XSoma_k10)):\n",
    "    furthest_k03[r] = max(XSoma_k03[r])\n",
    "    furthest_k10[r] = max(XSoma_k10[r])\n",
    "    furthest_k20[r] = max(XSoma_k20[r])\n",
    "    furthest_k30[r] = max(XSoma_k30[r])\n",
    "    furthest_k40[r] = max(XSoma_k40[r])\n",
    "    furthest_k50[r] = max(XSoma_k50[r])\n",
    "    furthest_k60[r] = max(XSoma_k60[r])\n",
    "    furthest_k70[r] = max(XSoma_k70[r])\n",
    "    furthest_k80[r] = max(XSoma_k80[r])\n",
    "    furthest_k90[r] = max(XSoma_k90[r])\n",
    "    furthest_k97[r] = max(XSoma_k97[r])\n",
    "\n"
   ]
  },
  {
   "cell_type": "code",
   "execution_count": null,
   "metadata": {},
   "outputs": [],
   "source": [
    "# Number of mitohcondria at endpoints \n",
    "\n",
    "fig, (axs) = plt.subplots(nrows=2, ncols=3, figsize=(16*cm,10*cm), constrained_layout=True)\n",
    "\n",
    "\n",
    "ax1 = axs[0, 0]\n",
    "ax2 = axs[0, 1]\n",
    "ax3 = axs[0, 2]\n",
    "ax4 = axs[1, 0]\n",
    "ax5 = axs[1, 1]\n",
    "\n",
    "\n",
    "line, = ax1.plot(tarray,numbermitosEP_k03, label = 'at sepecified time')\n",
    "line2, = ax1.plot(tarray,numbermitosEP_5um_k03, '--', label = 'at sepecified time', linewidth=1)\n",
    "hist1, _, _ = ax1.hist(lat_endpoints_hours_k03, 2000, density=False, histtype='step',\n",
    "                           cumulative=True, color = 'grey', label='cumulative',linewidth=2)\n",
    "\n",
    "\n",
    "line, = ax2.plot(tarray,numbermitosEP_k10, label = 'at sepecified time')\n",
    "line2, = ax2.plot(tarray,numbermitosEP_5um_k10,  '--', label = 'at sepecified time,5um', linewidth=1.5)\n",
    "hist2, _, _ = ax2.hist(lat_endpoints_hours_k10, 2000, density=False, histtype='step',\n",
    "                           cumulative=True, color = 'grey', label='cumulative',linewidth=2)\n",
    "\n",
    "line, = ax3.plot(tarray,numbermitosEP_k20, label = 'at sepecified time')\n",
    "line2, = ax3.plot(tarray,numbermitosEP_5um_k20, '--', label = 'at sepecified time', linewidth=1.5)\n",
    "hist3, _, _ = ax3.hist(lat_endpoints_hours_k20, 2000, density=False, histtype='step',\n",
    "                           cumulative=True, color = 'grey', label='cumulative',linewidth=2)\n",
    "\n",
    "line, = ax4.plot(tarray,numbermitosEP_k30, label = 'at sepecified time')\n",
    "line2, = ax4.plot(tarray,numbermitosEP_5um_k30, '--', label = 'at sepecified time', linewidth=1.5)\n",
    "hist4, _, _ = ax4.hist(lat_endpoints_hours_k30, 2000, density=False, histtype='step',\n",
    "                           cumulative=True, color = 'grey', label='cumulative',linewidth=2)\n",
    "\n",
    "line, = ax5.plot(tarray,numbermitosEP_k40, label = 'at sepecified time')\n",
    "line2, = ax5.plot(tarray,numbermitosEP_5um_k40, '--', label = 'at sepecified time', linewidth=1.5)\n",
    "hist5, _, _ = ax5.hist(lat_endpoints_hours_k40, 2000, density=False, histtype='step',\n",
    "                           cumulative=True, color = 'grey', label='cumulative',linewidth=2)\n",
    "\n",
    "\n",
    "ax1.set_title('k=0.03')\n",
    "ax2.set_title('k=0.10')\n",
    "ax3.set_title('k=0.20')\n",
    "ax4.set_title('k=0.30')\n",
    "ax5.set_title('k=0.40')\n",
    "\n",
    "\n",
    "for ax in (ax1, ax2, ax3, ax4, ax5):\n",
    "    ax.set_ylim(0,runs)\n",
    "    ax.minorticks_on()\n",
    "    ax.tick_params(axis='y', which='minor', bottom=False)\n",
    "\n",
    "    \n",
    "\n",
    "ax5.set_xlabel(\"Time (hours)\")\n",
    "ax4.set_xlabel(\"Time (hours)\")\n",
    "\n",
    "\n",
    "ax1.set_ylabel(\"Number of mitochondria\")\n",
    "#ax3.set_ylabel(\"Number of mitochondria\")\n",
    "#ax5.set_ylabel(\"Number of mitochondria\")\n",
    "\n",
    "#ax.set_title('Mitochondria at endpoints')\n",
    "#ax.set_ylabel(\"Number of mitochondria\") # all endpoints combine\n",
    "\n",
    "\n",
    "#handles = [line, line2, plt.Line2D([0], [0], color='grey', linestyle='-')]\n",
    "#labels = ['at time', 'at time, 5µm stretch','cumulative']\n",
    "#ax5.legend(handles, labels,loc=5, bbox_to_anchor=(3.58, 0.67), prop={'size': 9})\n",
    "\n",
    "for ax in (ax1, ax2, ax3, ax4, ax5, ax6):\n",
    "    modplot.set_axes_properties(ax)\n",
    "    \n",
    "fig.suptitle(\"Mitochondria at endpoints\", fontsize=12)\n",
    "\n",
    "    \n",
    "#fig.tight_layout()\n",
    "\n"
   ]
  },
  {
   "cell_type": "code",
   "execution_count": null,
   "metadata": {},
   "outputs": [],
   "source": [
    "fig, ax = plt.subplots()\n",
    "fig.set_size_inches(7*cm, 5*cm)\n",
    "\n",
    "\n",
    "\n",
    "ax.scatter(karray, numbermitosEP_5um_quarttp_ks, c= 'lavender', s=30, label=' at 120h')\n",
    "ax.scatter(karray, numbermitosEP_5um_midtp_ks, c ='skyblue' , s=30,  label='at 240h')\n",
    "ax.scatter(karray,numbermitosEP_5um_uquarttp_ks, c='tab:blue', s=30, label='at 360h')\n",
    "ax.scatter(karray, numbermitosEP_5um_lasttp_ks, c='midnightblue', s=30, label='at 480h')\n",
    "\n",
    "ax.set_xlabel(\"k\")\n",
    "ax.set_ylabel(\"Number of mitochondria\") # all endpoints combine\n",
    "ax.set_ylim(-50,runs)\n",
    "ax.minorticks_on()\n",
    "\n",
    "ax.set_title('Mitochondria at endpoints (5µm)') \n",
    "\n",
    "ax.legend(prop={'size': 9})\n",
    "\n",
    "modplot.set_axes_properties(ax)\n",
    "\n"
   ]
  },
  {
   "cell_type": "code",
   "execution_count": null,
   "metadata": {},
   "outputs": [],
   "source": [
    "bins = np.arange(0,494,24)\n",
    "\n",
    "fig, (axs) = plt.subplots(nrows=2, ncols=3, figsize=(16*cm,10*cm), constrained_layout=True)\n",
    "\n",
    "\n",
    "ax1 = axs[0, 0]\n",
    "ax2 = axs[0, 1]\n",
    "ax3 = axs[0, 2]\n",
    "ax4 = axs[1, 0]\n",
    "ax5 = axs[1, 1]\n",
    "\n",
    "\n",
    "\n",
    "hist1, _, _=ax1.hist(runtimesresults_k03,bins)\n",
    "hist2, _, _=ax2.hist(runtimesresults_k10,bins)\n",
    "hist3, _, _=ax3.hist(runtimesresults_k20,bins)\n",
    "hist4, _, _=ax4.hist(runtimesresults_k30,bins)\n",
    "hist5, _, _=ax5.hist(runtimesresults_k40,bins)\n",
    "\n",
    "ax1.set_title('k=0.03')\n",
    "ax2.set_title('k=0.10')\n",
    "ax3.set_title('k=0.20')\n",
    "ax4.set_title('k=0.30')\n",
    "ax5.set_title('k=0.40')\n",
    "\n",
    "\n",
    "\n",
    "for ax in (ax1,ax2,ax3,ax4,ax5):\n",
    "    ax.minorticks_on()\n",
    "    ax.set_ylim(0,300)\n",
    "    ax.set_xlim(0,480)\n",
    "\n",
    "    modplot.set_axes_properties(ax)\n",
    "\n",
    "\n",
    "\n",
    "ax5.set_xlabel(\"Time (hours)\")\n",
    "ax4.set_xlabel(\"Time (hours)\")\n",
    "\n",
    "ax1.set_ylabel(\"Number of mitochondria\")\n",
    "#ax3.set_ylabel(\"Number of mitochondria\")\n",
    "#ax5.set_ylabel(\"Number of mitochondria\")\n",
    "\n",
    "fig.suptitle(\"Latency to endpoint after first move\", fontsize=12)\n",
    "\n",
    "fig.tight_layout()\n",
    "\n"
   ]
  },
  {
   "cell_type": "code",
   "execution_count": null,
   "metadata": {},
   "outputs": [],
   "source": [
    "# To work out the percentage that teh first bar represents\n",
    "hist5 / sum(runtimesresults_k40>=0) * 100\n"
   ]
  },
  {
   "cell_type": "code",
   "execution_count": null,
   "metadata": {},
   "outputs": [],
   "source": [
    "bins = np.arange(0,480,24)\n",
    "\n",
    "\n",
    "fig, (axs) = plt.subplots(nrows=2, ncols=3, figsize=(16*cm,10*cm), constrained_layout=True)\n",
    "\n",
    "\n",
    "ax1 = axs[0, 0]\n",
    "ax2 = axs[0, 1]\n",
    "ax3 = axs[0, 2]\n",
    "ax4 = axs[1, 0]\n",
    "ax5 = axs[1, 1]\n",
    "\n",
    "\n",
    "hist1, _, _ = ax1.hist(runtimesresults_k03,bins,density=True)\n",
    "hist2, _, _ = ax2.hist(runtimesresults_k10,bins,density=True)\n",
    "hist3, _, _ = ax3.hist(runtimesresults_k20,bins,density=True)\n",
    "hist4, _, _ = ax4.hist(runtimesresults_k30,bins,density=True)\n",
    "hist5, _, _ = ax5.hist(runtimesresults_k40,bins,density=True)\n",
    "\n",
    "ax1.set_title('k=0.03')\n",
    "ax2.set_title('k=0.10')\n",
    "ax3.set_title('k=0.20')\n",
    "ax4.set_title('k=0.30')\n",
    "ax5.set_title('k=0.40')\n",
    "\n",
    "\n",
    "\n",
    "for ax in (ax1,ax2,ax3,ax4,ax5):\n",
    "    ax.minorticks_on()\n",
    "    #ax.set_ylim(0,300)\n",
    "    ax.set_ylim(0,0.016)\n",
    "    modplot.set_axes_properties(ax)\n",
    "\n",
    "\n",
    "\n",
    "ax5.set_xlabel(\"Time (hours)\")\n",
    "ax4.set_xlabel(\"Time (hours)\")\n",
    "\n",
    "ax1.set_ylabel(\"Probability density (number of mitochondria)\")\n",
    "#ax3.set_ylabel(\"Fraction of mitochondria\")#\"Fraction of mitochondria having reached endpoint\"\n",
    "#ax5.set_ylabel(\"Fraction of mitochondria\")\n",
    "\n",
    "fig.suptitle(\"Latency to endpoint after first move\", fontsize=12)\n",
    "\n",
    "fig.tight_layout()\n",
    "\n"
   ]
  },
  {
   "cell_type": "code",
   "execution_count": null,
   "metadata": {},
   "outputs": [],
   "source": [
    "hist5 / sum(runtimesresults_k40>=0) * 100\n"
   ]
  },
  {
   "cell_type": "code",
   "execution_count": null,
   "metadata": {},
   "outputs": [],
   "source": [
    "##trying normalised \n",
    "bins = np.arange(0,480,24)\n",
    "\n",
    "\n",
    "fig, (axs) = plt.subplots(nrows=2, ncols=3, figsize=(16*cm,10*cm), constrained_layout=True)\n",
    "\n",
    "\n",
    "ax1 = axs[0, 0]\n",
    "ax2 = axs[0, 1]\n",
    "ax3 = axs[0, 2]\n",
    "ax4 = axs[1, 0]\n",
    "ax5 = axs[1, 1]\n",
    "\n",
    "\n",
    "hist1, _, _ = ax1.hist(runtimesresults_k03,bins,density=True)\n",
    "hist2, _, _ = ax2.hist(runtimesresults_k10,bins,density=True)\n",
    "hist3, _, _ = ax3.hist(runtimesresults_k20,bins,density=True)\n",
    "hist4, _, _ = ax4.hist(runtimesresults_k30,bins,density=True)\n",
    "hist5, _, _ = ax5.hist(runtimesresults_k40, bins, density=True)\n",
    "\n",
    "ax1.set_title('k=0.03')\n",
    "ax2.set_title('k=0.10')\n",
    "ax3.set_title('k=0.20')\n",
    "ax4.set_title('k=0.30')\n",
    "ax5.set_title('k=0.40')\n",
    "\n",
    "\n",
    "\n",
    "for ax in (ax1,ax2,ax3,ax4,ax5):\n",
    "    ax.minorticks_on()\n",
    "    #ax.set_ylim(0,300)\n",
    "    ax.set_ylim(0,0.016)\n",
    "    modplot.set_axes_properties(ax)\n",
    "\n",
    "\n",
    "\n",
    "ax5.set_xlabel(\"Time (hours)\")\n",
    "ax4.set_xlabel(\"Time (hours)\")\n",
    "\n",
    "ax1.set_ylabel(\"Fraction of mitochondria\")\n",
    "#ax3.set_ylabel(\"Fraction of mitochondria\")#\"Fraction of mitochondria having reached endpoint\"\n",
    "#ax5.set_ylabel(\"Fraction of mitochondria\")\n",
    "\n",
    "fig.suptitle(\"Latency to endpoint after first move\", fontsize=12)\n",
    "\n",
    "fig.tight_layout()\n",
    "\n"
   ]
  },
  {
   "cell_type": "code",
   "execution_count": null,
   "metadata": {
    "scrolled": true
   },
   "outputs": [],
   "source": [
    "np.median(runtimesresults_k40[runtimesresults_k40>=0])"
   ]
  },
  {
   "cell_type": "code",
   "execution_count": null,
   "metadata": {},
   "outputs": [],
   "source": [
    "bins = np.arange(0, 10200, 200)\n",
    "\n",
    "\n",
    "\n",
    "xmin = np.trunc(min(distfromsoma.values()))\n",
    "xmax = int(max(distfromsoma.values()))\n",
    "ymax = runs\n",
    "\n",
    "\n",
    "fig, (axs) = plt.subplots(nrows=2, ncols=3, figsize=(16*cm,15.5*cm), constrained_layout=True)\n",
    "\n",
    "\n",
    "ax1 = axs[0, 0]\n",
    "ax2 = axs[0, 1]\n",
    "ax3 = axs[0, 2]\n",
    "ax4 = axs[1, 0]\n",
    "ax5 = axs[1, 1]\n",
    "ax6 = axs[1, 2]\n",
    "\n",
    "fig.subplots_adjust(wspace=0.05) # reduce spacing between subplots\n",
    "hist1, _, _ = ax1.hist(XSoma_k03[:,[numtimesteps_post-1]], bins= bins)\n",
    "hist2, _, _ = ax2.hist(XSoma_k10[:,[numtimesteps_post-1]], bins= bins)\n",
    "hist3, _, _ = ax3.hist(XSoma_k20[:,[numtimesteps_post-1]], bins= bins)\n",
    "hist4, _, _ = ax4.hist(XSoma_k30[:,[numtimesteps_post-1]], bins= bins)\n",
    "hist5, _, _ = ax5.hist(XSoma_k40[:,[numtimesteps_post-1]], bins= bins)\n",
    "hist6, _, _ = ax6.hist(XSoma_k50[:,[numtimesteps_post-1]], bins= bins)\n",
    "\n",
    "ax1.set_title('k=0.03')\n",
    "ax2.set_title('k=0.10')\n",
    "ax3.set_title('k=0.20')\n",
    "ax4.set_title('k=0.30')\n",
    "ax5.set_title('k=0.40')\n",
    "ax6.set_title('k=0.50')\n",
    "\n",
    "for ax in (ax1,ax2,ax3,ax4,ax5,ax6):\n",
    "    ax.set_yscale('log')\n",
    "    ax.set_xlim(-400, xmax+400)\n",
    "    #i.set_ylim(0, 900)\n",
    "    ax.set_ylim((10**-0.2,12**3) )\n",
    "    ax.minorticks_on()\n",
    "    modplot.set_axes_properties(ax)\n",
    "\n",
    "\n",
    "\n",
    "    \n",
    "ax1.set_ylabel(\"Number of mitochondria\")\n",
    "ax4.set_ylabel(\"Number of mitochondria\")\n",
    "ax5.set_xlabel(\"Distance from soma (µm)\")\n",
    "\n",
    "#ax2.tick_params(axis='y',labelleft=False)\n",
    "#ax3.tick_params(axis='y',labelleft=False)\n",
    "\n",
    "#ax1.set(xlabel = None)\n",
    "#ax3.set(xlabel = None)\n",
    "    \n",
    "\n",
    "#ax1.set_title('t = 1 minute', fontsize = 15.0,  pad=20)\n",
    "#ax2.set_title('t = 24 hours', fontsize = 15.0,  pad=20)\n",
    "#ax3.set_title('t = 48 hours', fontsize = 15.0,  pad=20)\n",
    "\n",
    "fig.suptitle(\"Mitochondial distribution at last timepoint (480h)\", fontsize=12)\n",
    "\n",
    "\n",
    "\n",
    "fig.tight_layout()\n"
   ]
  },
  {
   "cell_type": "code",
   "execution_count": null,
   "metadata": {},
   "outputs": [],
   "source": [
    "bins = np.arange(0, 10200, 200)\n",
    "\n",
    "\n",
    "\n",
    "xmin = np.trunc(min(distfromsoma.values()))\n",
    "xmax = int(max(distfromsoma.values()))\n",
    "\n",
    "\n",
    "fig, (axs) = plt.subplots(nrows=2, ncols=3, figsize=(16*cm,15.5*cm), constrained_layout=True)\n",
    "\n",
    "\n",
    "ax1 = axs[0, 0]\n",
    "ax2 = axs[0, 1]\n",
    "ax3 = axs[0, 2]\n",
    "ax4 = axs[1, 0]\n",
    "ax5 = axs[1, 1]\n",
    "ax6 = axs[1, 2]\n",
    "\n",
    "fig.subplots_adjust(wspace=0.05) # reduce spacing between subplots\n",
    "hist1, _, _ = ax1.hist(XSoma_k03[:,[numtimesteps_post-1]], bins= bins)\n",
    "hist2, _, _ = ax2.hist(XSoma_k10[:,[numtimesteps_post-1]], bins= bins)\n",
    "hist3, _, _ = ax3.hist(XSoma_k20[:,[numtimesteps_post-1]], bins= bins)\n",
    "hist4, _, _ = ax4.hist(XSoma_k30[:,[numtimesteps_post-1]], bins= bins)\n",
    "hist5, _, _ = ax5.hist(XSoma_k40[:,[numtimesteps_post-1]], bins= bins)\n",
    "hist6, _, _ = ax6.hist(XSoma_k50[:,[numtimesteps_post-1]], bins= bins)\n",
    "\n",
    "ax1.set_title('k=0.03')\n",
    "ax2.set_title('k=0.10')\n",
    "ax3.set_title('k=0.20')\n",
    "ax4.set_title('k=0.30')\n",
    "ax5.set_title('k=0.40')\n",
    "ax6.set_title('k=0.50')\n",
    "\n",
    "for ax in (ax1,ax2,ax3,ax4,ax5,ax6):\n",
    "    #ax.set_yscale('log')\n",
    "    ax.set_xlim(-400, xmax+400)\n",
    "    ax.set_ylim(0, 1000)\n",
    "    #ax.set_ylim((10**-0.2,12**3) )\n",
    "    ax.minorticks_on()\n",
    "    modplot.set_axes_properties(ax)\n",
    "\n",
    "\n",
    "\n",
    "    \n",
    "ax1.set_ylabel(\"Number of mitochondria\")\n",
    "ax4.set_ylabel(\"Number of mitochondria\")\n",
    "ax5.set_xlabel(\"Distance from soma (µm)\")\n",
    "\n",
    "#ax2.tick_params(axis='y',labelleft=False)\n",
    "#ax3.tick_params(axis='y',labelleft=False)\n",
    "\n",
    "#ax1.set(xlabel = None)\n",
    "#ax3.set(xlabel = None)\n",
    "    \n",
    "\n",
    "#ax1.set_title('t = 1 minute', fontsize = 15.0,  pad=20)\n",
    "#ax2.set_title('t = 24 hours', fontsize = 15.0,  pad=20)\n",
    "#ax3.set_title('t = 48 hours', fontsize = 15.0,  pad=20)\n",
    "\n",
    "fig.suptitle(\"Mitochondial distribution at last timepoint (480h)\", fontsize=12)\n",
    "\n",
    "\n",
    "\n",
    "fig.tight_layout()\n"
   ]
  },
  {
   "cell_type": "code",
   "execution_count": null,
   "metadata": {},
   "outputs": [],
   "source": [
    "hist5>24"
   ]
  },
  {
   "cell_type": "code",
   "execution_count": null,
   "metadata": {},
   "outputs": [],
   "source": [
    "#Furthest distance reached by mitos \n",
    "\n",
    "\n",
    "bins = np.arange(-500,10500,500)\n",
    "\n",
    "fig, (axs) = plt.subplots(nrows=4, ncols=2, figsize=(16.5*cm,18.5*cm))\n",
    "\n",
    "\n",
    "ax1 = axs[0, 0]\n",
    "ax2 = axs[0, 1]\n",
    "ax3 = axs[1, 0]\n",
    "ax4 = axs[1, 1]\n",
    "ax5 = axs[2, 0]\n",
    "ax6 = axs[2, 1]\n",
    "ax7 = axs[3, 0]\n",
    "ax8 = axs[3, 1]\n",
    "\n",
    "hist1, _, _ = ax1.hist(furthest_k03,bins)#,density=True)\n",
    "hist2, _, _ =ax2.hist(furthest_k10,bins)#,density=True)\n",
    "hist3, _, _ =ax3.hist(furthest_k20,bins)#,density=True)\n",
    "hist4, _, _ =ax4.hist(furthest_k30,bins)#,density=True)\n",
    "hist5, _, _ =ax5.hist(furthest_k40,bins)#,density=True)\n",
    "hist6, _, _ =ax6.hist(furthest_k50,bins)#,density=True)\n",
    "hist7, _, _ =ax7.hist(furthest_k60,bins)#,density=True)\n",
    "#ax8.hist(furthest_k70,bins)#,density=True)\n",
    "\n",
    "ax1.set_title('k=0.03')\n",
    "ax2.set_title('k=0.10')\n",
    "ax3.set_title('k=0.20')\n",
    "ax4.set_title('k=0.30')\n",
    "ax5.set_title('k=0.40')\n",
    "ax6.set_title('k=0.50')\n",
    "ax7.set_title('k=0.60 / 0.70 / 0.80 / 0.90 / 0.97')\n",
    "\n",
    "\n",
    "\n",
    "for ax in (ax1,ax2,ax3,ax4,ax5,ax6,ax7,ax8):\n",
    "    ax.minorticks_on()\n",
    "    ax.set_ylim(0,1000)\n",
    "    #ax.set_ylim(0,0.016)\n",
    "    modplot.set_axes_properties(ax)\n",
    "\n",
    "\n",
    "#ax1.set_ylabel(\"Number of mitochondria\")\n",
    "ax3.set_ylabel(\"Number of mitochondria\")\n",
    "#ax5.set_ylabel(\"Number of mitochondria\")\n",
    "ax7.set_ylabel(\"Number of mitochondria\")\n",
    "\n",
    "ax7.set_xlabel(\"Distance from soma (µm)\")\n",
    "ax6.set_xlabel(\"Distance from soma (µm)\")\n",
    "\n",
    "\n",
    "\n",
    "fig.suptitle(\"Distribution of furthest distance reached\", fontsize=12)\n",
    "\n",
    "fig.tight_layout()\n",
    "\n"
   ]
  },
  {
   "cell_type": "code",
   "execution_count": null,
   "metadata": {},
   "outputs": [],
   "source": [
    "max(furthest_k50)"
   ]
  },
  {
   "cell_type": "code",
   "execution_count": null,
   "metadata": {},
   "outputs": [],
   "source": [
    "bins = np.arange(-500,10500,500)\n",
    "\n",
    "fig, (axs) = plt.subplots(nrows=4, ncols=2, figsize=(16.5*cm,18.5*cm))\n",
    "\n",
    "\n",
    "ax1 = axs[0, 0]\n",
    "ax2 = axs[0, 1]\n",
    "ax3 = axs[1, 0]\n",
    "ax4 = axs[1, 1]\n",
    "ax5 = axs[2, 0]\n",
    "ax6 = axs[2, 1]\n",
    "ax7 = axs[3, 0]\n",
    "ax8 = axs[3, 1]\n",
    "\n",
    "ax1.hist(furthest_k03,bins)#,density=True)\n",
    "ax2.hist(furthest_k10,bins)#,density=True)\n",
    "ax3.hist(furthest_k20,bins)#,density=True)\n",
    "ax4.hist(furthest_k30,bins)#,density=True)\n",
    "ax5.hist(furthest_k40,bins)#,density=True)\n",
    "ax6.hist(furthest_k50,bins)#,density=True)\n",
    "ax7.hist(furthest_k60,bins)#,density=True)\n",
    "#ax8.hist(furthest_k70,bins)#,density=True)\n",
    "\n",
    "ax1.set_title('k=0.03')\n",
    "ax2.set_title('k=0.10')\n",
    "ax3.set_title('k=0.20')\n",
    "ax4.set_title('k=0.30')\n",
    "ax5.set_title('k=0.40')\n",
    "ax6.set_title('k=0.50')\n",
    "ax7.set_title('k=0.60 / 0.70 / 0.80 / 0.90 / 0.97')\n",
    "\n",
    "\n",
    "\n",
    "for ax in (ax1,ax2,ax3,ax4,ax5,ax6,ax7,ax8):\n",
    "    ax.minorticks_on()\n",
    "    ax.set_yscale('log')\n",
    "    #ax.set_ylim(0,1000)\n",
    "    ax.set_ylim((10**-0.2,10**3) )\n",
    "\n",
    "    modplot.set_axes_properties(ax)\n",
    "\n",
    "\n",
    "#ax1.set_ylabel(\"Number of mitochondria\")\n",
    "ax3.set_ylabel(\"Number of mitochondria\")\n",
    "#ax5.set_ylabel(\"Number of mitochondria\")\n",
    "ax7.set_ylabel(\"Number of mitochondria\")\n",
    "\n",
    "ax7.set_xlabel(\"Distance from soma (µm)\")\n",
    "ax6.set_xlabel(\"Distance from soma (µm)\")\n",
    "\n",
    "\n",
    "\n",
    "fig.suptitle(\"Dsitribution of furthest distance reached\", fontsize=12)\n",
    "\n",
    "fig.tight_layout()\n",
    "\n"
   ]
  }
 ],
 "metadata": {
  "kernelspec": {
   "display_name": "Python 3",
   "language": "python",
   "name": "python3"
  },
  "language_info": {
   "codemirror_mode": {
    "name": "ipython",
    "version": 3
   },
   "file_extension": ".py",
   "mimetype": "text/x-python",
   "name": "python",
   "nbconvert_exporter": "python",
   "pygments_lexer": "ipython3",
   "version": "3.8.8"
  }
 },
 "nbformat": 4,
 "nbformat_minor": 2
}
